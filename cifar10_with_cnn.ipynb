{
 "cells": [
  {
   "metadata": {
    "id": "292f9d5ab9027aaa"
   },
   "cell_type": "markdown",
   "source": [
    "# 使用卷积神经网络进行cifar10数据集的分类任务\n",
    "\n",
    "搭建带有残差网络的CNN训练模型，之后再进行迁移学习"
   ],
   "id": "292f9d5ab9027aaa"
  },
  {
   "metadata": {
    "id": "46850943aa4cd4aa"
   },
   "cell_type": "markdown",
   "source": [
    "## 一、加载数据集"
   ],
   "id": "46850943aa4cd4aa"
  },
  {
   "cell_type": "code",
   "id": "initial_id",
   "metadata": {
    "collapsed": true,
    "ExecuteTime": {
     "end_time": "2025-10-06T01:59:29.838242Z",
     "start_time": "2025-10-06T01:59:28.727244Z"
    },
    "colab": {
     "base_uri": "https://localhost:8080/"
    },
    "id": "initial_id",
    "outputId": "7c84ec6d-7dc9-480b-a289-245661ba5eac"
   },
   "source": [
    "import numpy as np\n",
    "# 加载数据的代码\n",
    "import tensorflow as tf\n",
    "(X_train_full, y_train_full), (X_test, y_test) = tf.keras.datasets.cifar10.load_data()\n",
    "\n",
    "# 查看数据集形状\n",
    "print(\"训练集图片形状:\", X_train_full.shape) # 应该是 (50000, 32, 32, 3)\n",
    "print(\"训练集标签形状:\", y_train_full.shape) # 应该是 (50000, 1)\n",
    "\n",
    "X_train_full, X_test = X_train_full / 255., X_test / 255."
   ],
   "outputs": [
    {
     "output_type": "stream",
     "name": "stdout",
     "text": [
      "训练集图片形状: (50000, 32, 32, 3)\n",
      "训练集标签形状: (50000, 1)\n"
     ]
    }
   ],
   "execution_count": 1
  },
  {
   "metadata": {
    "ExecuteTime": {
     "end_time": "2025-10-06T02:16:28.561406Z",
     "start_time": "2025-10-06T02:16:27.738909Z"
    },
    "id": "5ee61e0112b35f20"
   },
   "cell_type": "code",
   "source": [
    "from sklearn.preprocessing import LabelEncoder\n",
    "\n",
    "\n",
    "# 按0-9顺序定义类别：飞机、汽车、鸟类、猫、鹿、狗、青蛙、马、船和卡车\n",
    "class_names = ['airplane', 'automobile', 'bird', 'cat', 'deer',\n",
    "               'dog', 'frog', 'horse', 'ship', 'truck']\n",
    "\n",
    "\n",
    "# 分为二分类和八分类问题\n",
    "classes = ['horse', 'ship']     # 分类7对应 horse，分类8对应 ship\n",
    "\n",
    "# 训练集拆分\n",
    "mask_arr = (y_train_full == 7) | (y_train_full == 8)\n",
    "\n",
    "mask_arr = mask_arr.ravel()\n",
    "X_train_binary_classes = X_train_full[mask_arr]\n",
    "y_train_binary_classes = y_train_full[mask_arr]\n",
    "\n",
    "X_train = X_train_full[~mask_arr]\n",
    "y_train = y_train_full[~mask_arr]\n",
    "\n",
    "\n",
    "# 测试集拆分\n",
    "mask_arr1 = (y_test == 7) | (y_test == 8)\n",
    "mask_arr1 = mask_arr1.ravel()\n",
    "X_test_binary_classes = X_test[mask_arr1]\n",
    "y_test_binary_classes = y_test[mask_arr1]\n",
    "\n",
    "X_test = X_test[~mask_arr1]\n",
    "y_test = y_test[~mask_arr1]\n",
    "\n",
    "# 分类重新编码\n",
    "# 二分类\n",
    "y_train_binary_classes = (y_train_binary_classes == 8).astype(np.int8)\n",
    "y_test_binary_classes = (y_test_binary_classes == 8).astype(np.int8)\n",
    "\n",
    "# 八分类\n",
    "encoder = LabelEncoder()\n",
    "y_train = encoder.fit_transform(y_train.ravel())\n",
    "y_test = encoder.transform(y_test.ravel())\n"
   ],
   "id": "5ee61e0112b35f20",
   "outputs": [],
   "execution_count": 2
  },
  {
   "metadata": {
    "id": "112100f7f94186c0"
   },
   "cell_type": "markdown",
   "source": [
    "## 二、构造卷积神经网络"
   ],
   "id": "112100f7f94186c0"
  },
  {
   "metadata": {
    "ExecuteTime": {
     "end_time": "2025-10-06T01:59:42.839948Z",
     "start_time": "2025-10-06T01:59:42.824336Z"
    },
    "id": "c0ca3c6de83816e3"
   },
   "cell_type": "code",
   "source": [
    "from functools import partial\n",
    "\n",
    "DefaultConv2D = partial(tf.keras.layers.Conv2D, kernel_size=3, strides=1, padding=\"same\", kernel_initializer=\"he_normal\", use_bias=False)\n",
    "\n",
    "\n",
    "# 定义残差块\n",
    "@tf.keras.utils.register_keras_serializable(name=\"ResidualUnit\")\n",
    "class ResidualUnit(tf.keras.layers.Layer):\n",
    "    def __init__(self, filters, strides=1, activation=\"relu\", **kwargs):\n",
    "        super().__init__(**kwargs)\n",
    "        self.filters = filters\n",
    "        self.strides = strides\n",
    "        self.activation = activation\n",
    "        self.activation = tf.keras.activations.get(activation)\n",
    "\n",
    "        self.main_layers = [\n",
    "            DefaultConv2D(filters, strides=strides),\n",
    "            tf.keras.layers.BatchNormalization(),\n",
    "            self.activation,\n",
    "            DefaultConv2D(filters),\n",
    "            tf.keras.layers.BatchNormalization()\n",
    "        ]\n",
    "\n",
    "        self.skip_layers = []\n",
    "        if strides > 1:\n",
    "            self.skip_layers = [\n",
    "                DefaultConv2D(filters, kernel_size=1, strides=strides),\n",
    "                tf.keras.layers.BatchNormalization()\n",
    "            ]\n",
    "\n",
    "\n",
    "    def call(self, inputs, *args, **kwargs):\n",
    "        Z = inputs\n",
    "        for layer in self.main_layers:\n",
    "            Z = layer(Z)\n",
    "\n",
    "        skip_Z = inputs\n",
    "        for layer in self.skip_layers:\n",
    "            skip_Z = layer(skip_Z)\n",
    "\n",
    "        return self.activation(Z + skip_Z)\n",
    "\n",
    "    def get_config(self):\n",
    "        # 把自定义参数加入配置\n",
    "        config = super().get_config()\n",
    "        config.update({\n",
    "            \"filters\": self.filters,\n",
    "            \"strides\": self.strides,\n",
    "            \"activation\": self.activation,\n",
    "        })\n",
    "        return config"
   ],
   "id": "c0ca3c6de83816e3",
   "outputs": [],
   "execution_count": 3
  },
  {
   "metadata": {
    "ExecuteTime": {
     "end_time": "2025-10-06T01:59:44.116937Z",
     "start_time": "2025-10-06T01:59:43.345930Z"
    },
    "colab": {
     "base_uri": "https://localhost:8080/"
    },
    "id": "de6567d639a6195d",
    "outputId": "4e506d93-5036-415b-8622-c358112539c4"
   },
   "cell_type": "code",
   "source": [
    "model = tf.keras.Sequential([\n",
    "    DefaultConv2D(64, kernel_size=7, strides=2, input_shape=[32, 32, 3]),\n",
    "    tf.keras.layers.BatchNormalization(),\n",
    "    tf.keras.layers.Activation(\"relu\"),\n",
    "    tf.keras.layers.MaxPool2D(pool_size=3, strides=2, padding=\"same\")\n",
    "])\n",
    "\n",
    "prev_filters = 64\n",
    "for filter in [64] * 3 + [128] * 4 + [256] * 6 + [512] * 3:\n",
    "    strides = 1 if filter == prev_filters else 2\n",
    "    model.add(ResidualUnit(filter, strides=strides))\n",
    "    prev_filters = filter\n",
    "\n",
    "model.add(tf.keras.layers.GlobalAvgPool2D())\n",
    "model.add(tf.keras.layers.Flatten())\n",
    "model.add(tf.keras.layers.Dense(8, activation=\"softmax\"))"
   ],
   "id": "de6567d639a6195d",
   "outputs": [
    {
     "output_type": "stream",
     "name": "stderr",
     "text": [
      "/usr/local/lib/python3.12/dist-packages/keras/src/layers/convolutional/base_conv.py:113: UserWarning: Do not pass an `input_shape`/`input_dim` argument to a layer. When using Sequential models, prefer using an `Input(shape)` object as the first layer in the model instead.\n",
      "  super().__init__(activity_regularizer=activity_regularizer, **kwargs)\n"
     ]
    }
   ],
   "execution_count": 4
  },
  {
   "metadata": {
    "ExecuteTime": {
     "end_time": "2025-10-06T02:17:01.227429Z",
     "start_time": "2025-10-06T02:16:34.666476Z"
    },
    "colab": {
     "base_uri": "https://localhost:8080/"
    },
    "id": "2964f392a8cef580",
    "outputId": "f6ed8930-dece-4c65-a01d-55a2108b8db4"
   },
   "cell_type": "code",
   "source": [
    "model.compile(\n",
    "    optimizer=\"adam\",\n",
    "    loss=\"sparse_categorical_crossentropy\",\n",
    "    metrics=[\"accuracy\"]\n",
    ")\n",
    "\n",
    "model.fit(X_train, y_train, epochs=10, validation_data=(X_test, y_test))"
   ],
   "id": "2964f392a8cef580",
   "outputs": [
    {
     "output_type": "stream",
     "name": "stdout",
     "text": [
      "Epoch 1/10\n",
      "\u001B[1m1250/1250\u001B[0m \u001B[32m━━━━━━━━━━━━━━━━━━━━\u001B[0m\u001B[37m\u001B[0m \u001B[1m58s\u001B[0m 25ms/step - accuracy: 0.4028 - loss: 1.7362 - val_accuracy: 0.3801 - val_loss: 1.7136\n",
      "Epoch 2/10\n",
      "\u001B[1m1250/1250\u001B[0m \u001B[32m━━━━━━━━━━━━━━━━━━━━\u001B[0m\u001B[37m\u001B[0m \u001B[1m28s\u001B[0m 22ms/step - accuracy: 0.5827 - loss: 1.1735 - val_accuracy: 0.4363 - val_loss: 1.8964\n",
      "Epoch 3/10\n",
      "\u001B[1m1250/1250\u001B[0m \u001B[32m━━━━━━━━━━━━━━━━━━━━\u001B[0m\u001B[37m\u001B[0m \u001B[1m27s\u001B[0m 22ms/step - accuracy: 0.6218 - loss: 1.0680 - val_accuracy: 0.5727 - val_loss: 1.3853\n",
      "Epoch 4/10\n",
      "\u001B[1m1250/1250\u001B[0m \u001B[32m━━━━━━━━━━━━━━━━━━━━\u001B[0m\u001B[37m\u001B[0m \u001B[1m28s\u001B[0m 22ms/step - accuracy: 0.6911 - loss: 0.8592 - val_accuracy: 0.4593 - val_loss: 5.5761\n",
      "Epoch 5/10\n",
      "\u001B[1m1250/1250\u001B[0m \u001B[32m━━━━━━━━━━━━━━━━━━━━\u001B[0m\u001B[37m\u001B[0m \u001B[1m28s\u001B[0m 22ms/step - accuracy: 0.7046 - loss: 0.8323 - val_accuracy: 0.5821 - val_loss: 1.2426\n",
      "Epoch 6/10\n",
      "\u001B[1m1250/1250\u001B[0m \u001B[32m━━━━━━━━━━━━━━━━━━━━\u001B[0m\u001B[37m\u001B[0m \u001B[1m27s\u001B[0m 22ms/step - accuracy: 0.7304 - loss: 0.7565 - val_accuracy: 0.6722 - val_loss: 0.9339\n",
      "Epoch 7/10\n",
      "\u001B[1m1250/1250\u001B[0m \u001B[32m━━━━━━━━━━━━━━━━━━━━\u001B[0m\u001B[37m\u001B[0m \u001B[1m27s\u001B[0m 22ms/step - accuracy: 0.7812 - loss: 0.6171 - val_accuracy: 0.7154 - val_loss: 0.8921\n",
      "Epoch 8/10\n",
      "\u001B[1m1250/1250\u001B[0m \u001B[32m━━━━━━━━━━━━━━━━━━━━\u001B[0m\u001B[37m\u001B[0m \u001B[1m28s\u001B[0m 22ms/step - accuracy: 0.8060 - loss: 0.5504 - val_accuracy: 0.6990 - val_loss: 0.8947\n",
      "Epoch 9/10\n",
      "\u001B[1m1250/1250\u001B[0m \u001B[32m━━━━━━━━━━━━━━━━━━━━\u001B[0m\u001B[37m\u001B[0m \u001B[1m27s\u001B[0m 22ms/step - accuracy: 0.8394 - loss: 0.4527 - val_accuracy: 0.6919 - val_loss: 0.9211\n",
      "Epoch 10/10\n",
      "\u001B[1m1250/1250\u001B[0m \u001B[32m━━━━━━━━━━━━━━━━━━━━\u001B[0m\u001B[37m\u001B[0m \u001B[1m27s\u001B[0m 22ms/step - accuracy: 0.8608 - loss: 0.3962 - val_accuracy: 0.3461 - val_loss: 3.3844\n"
     ]
    },
    {
     "output_type": "execute_result",
     "data": {
      "text/plain": [
       "<keras.src.callbacks.history.History at 0x7d77de259640>"
      ]
     },
     "metadata": {},
     "execution_count": 5
    }
   ],
   "execution_count": 5
  },
  {
   "metadata": {
    "id": "a3173b68eeb20d9e"
   },
   "cell_type": "code",
   "outputs": [],
   "execution_count": 6,
   "source": [
    "model.save(\"./tmps/pretrain_model.keras\")"
   ],
   "id": "a3173b68eeb20d9e"
  },
  {
   "cell_type": "markdown",
   "source": [
    "## 三、迁移学习（重用预训练层）"
   ],
   "metadata": {
    "id": "oN16xx6pYER8"
   },
   "id": "oN16xx6pYER8"
  },
  {
   "cell_type": "code",
   "source": [
    "new_model = tf.keras.models.load_model(\"./tmps/pretrain_model.keras\", custom_objects={'ResidualUnit': ResidualUnit})\n"
   ],
   "metadata": {
    "colab": {
     "base_uri": "https://localhost:8080/"
    },
    "id": "J-3XSp0vXUyB",
    "outputId": "07e5a4ba-c1bd-4e6d-b7d4-bc19106fbeb7"
   },
   "id": "J-3XSp0vXUyB",
   "execution_count": 7,
   "outputs": [
    {
     "output_type": "stream",
     "name": "stderr",
     "text": [
      "/usr/local/lib/python3.12/dist-packages/keras/src/layers/layer.py:421: UserWarning: `build()` was called on layer 'residual_unit', however the layer does not have a `build()` method implemented and it looks like it has unbuilt state. This will cause the layer to be marked as built, despite not being actually built, which may cause failures down the line. Make sure to implement a proper `build()` method.\n",
      "  warnings.warn(\n",
      "/usr/local/lib/python3.12/dist-packages/keras/src/layers/layer.py:421: UserWarning: `build()` was called on layer 'residual_unit_1', however the layer does not have a `build()` method implemented and it looks like it has unbuilt state. This will cause the layer to be marked as built, despite not being actually built, which may cause failures down the line. Make sure to implement a proper `build()` method.\n",
      "  warnings.warn(\n",
      "/usr/local/lib/python3.12/dist-packages/keras/src/layers/layer.py:421: UserWarning: `build()` was called on layer 'residual_unit_2', however the layer does not have a `build()` method implemented and it looks like it has unbuilt state. This will cause the layer to be marked as built, despite not being actually built, which may cause failures down the line. Make sure to implement a proper `build()` method.\n",
      "  warnings.warn(\n",
      "/usr/local/lib/python3.12/dist-packages/keras/src/layers/layer.py:421: UserWarning: `build()` was called on layer 'residual_unit_3', however the layer does not have a `build()` method implemented and it looks like it has unbuilt state. This will cause the layer to be marked as built, despite not being actually built, which may cause failures down the line. Make sure to implement a proper `build()` method.\n",
      "  warnings.warn(\n",
      "/usr/local/lib/python3.12/dist-packages/keras/src/layers/layer.py:421: UserWarning: `build()` was called on layer 'residual_unit_4', however the layer does not have a `build()` method implemented and it looks like it has unbuilt state. This will cause the layer to be marked as built, despite not being actually built, which may cause failures down the line. Make sure to implement a proper `build()` method.\n",
      "  warnings.warn(\n",
      "/usr/local/lib/python3.12/dist-packages/keras/src/layers/layer.py:421: UserWarning: `build()` was called on layer 'residual_unit_5', however the layer does not have a `build()` method implemented and it looks like it has unbuilt state. This will cause the layer to be marked as built, despite not being actually built, which may cause failures down the line. Make sure to implement a proper `build()` method.\n",
      "  warnings.warn(\n",
      "/usr/local/lib/python3.12/dist-packages/keras/src/layers/layer.py:421: UserWarning: `build()` was called on layer 'residual_unit_6', however the layer does not have a `build()` method implemented and it looks like it has unbuilt state. This will cause the layer to be marked as built, despite not being actually built, which may cause failures down the line. Make sure to implement a proper `build()` method.\n",
      "  warnings.warn(\n",
      "/usr/local/lib/python3.12/dist-packages/keras/src/layers/layer.py:421: UserWarning: `build()` was called on layer 'residual_unit_7', however the layer does not have a `build()` method implemented and it looks like it has unbuilt state. This will cause the layer to be marked as built, despite not being actually built, which may cause failures down the line. Make sure to implement a proper `build()` method.\n",
      "  warnings.warn(\n",
      "/usr/local/lib/python3.12/dist-packages/keras/src/layers/layer.py:421: UserWarning: `build()` was called on layer 'residual_unit_8', however the layer does not have a `build()` method implemented and it looks like it has unbuilt state. This will cause the layer to be marked as built, despite not being actually built, which may cause failures down the line. Make sure to implement a proper `build()` method.\n",
      "  warnings.warn(\n",
      "/usr/local/lib/python3.12/dist-packages/keras/src/layers/layer.py:421: UserWarning: `build()` was called on layer 'residual_unit_9', however the layer does not have a `build()` method implemented and it looks like it has unbuilt state. This will cause the layer to be marked as built, despite not being actually built, which may cause failures down the line. Make sure to implement a proper `build()` method.\n",
      "  warnings.warn(\n",
      "/usr/local/lib/python3.12/dist-packages/keras/src/layers/layer.py:421: UserWarning: `build()` was called on layer 'residual_unit_10', however the layer does not have a `build()` method implemented and it looks like it has unbuilt state. This will cause the layer to be marked as built, despite not being actually built, which may cause failures down the line. Make sure to implement a proper `build()` method.\n",
      "  warnings.warn(\n",
      "/usr/local/lib/python3.12/dist-packages/keras/src/layers/layer.py:421: UserWarning: `build()` was called on layer 'residual_unit_11', however the layer does not have a `build()` method implemented and it looks like it has unbuilt state. This will cause the layer to be marked as built, despite not being actually built, which may cause failures down the line. Make sure to implement a proper `build()` method.\n",
      "  warnings.warn(\n",
      "/usr/local/lib/python3.12/dist-packages/keras/src/layers/layer.py:421: UserWarning: `build()` was called on layer 'residual_unit_12', however the layer does not have a `build()` method implemented and it looks like it has unbuilt state. This will cause the layer to be marked as built, despite not being actually built, which may cause failures down the line. Make sure to implement a proper `build()` method.\n",
      "  warnings.warn(\n",
      "/usr/local/lib/python3.12/dist-packages/keras/src/layers/layer.py:421: UserWarning: `build()` was called on layer 'residual_unit_13', however the layer does not have a `build()` method implemented and it looks like it has unbuilt state. This will cause the layer to be marked as built, despite not being actually built, which may cause failures down the line. Make sure to implement a proper `build()` method.\n",
      "  warnings.warn(\n",
      "/usr/local/lib/python3.12/dist-packages/keras/src/layers/layer.py:421: UserWarning: `build()` was called on layer 'residual_unit_14', however the layer does not have a `build()` method implemented and it looks like it has unbuilt state. This will cause the layer to be marked as built, despite not being actually built, which may cause failures down the line. Make sure to implement a proper `build()` method.\n",
      "  warnings.warn(\n",
      "/usr/local/lib/python3.12/dist-packages/keras/src/layers/layer.py:421: UserWarning: `build()` was called on layer 'residual_unit_15', however the layer does not have a `build()` method implemented and it looks like it has unbuilt state. This will cause the layer to be marked as built, despite not being actually built, which may cause failures down the line. Make sure to implement a proper `build()` method.\n",
      "  warnings.warn(\n"
     ]
    }
   ]
  },
  {
   "cell_type": "code",
   "source": [
    "model2 = tf.keras.Sequential(new_model.layers[:-1])\n",
    "model2.add(tf.keras.layers.Dense(1, activation=\"sigmoid\"))\n",
    "\n",
    "# 冻结预训练层\n",
    "for layer in model2.layers[:-1]:\n",
    "  layer.trainable = False\n",
    "\n",
    "model2.compile(\n",
    "    loss=\"binary_crossentropy\",\n",
    "    optimizer=\"sgd\",\n",
    "    metrics=[\"accuracy\"]\n",
    ")\n",
    "\n",
    "model2.fit(X_train_binary_classes, y_train_binary_classes, epochs=5)\n"
   ],
   "metadata": {
    "colab": {
     "base_uri": "https://localhost:8080/"
    },
    "id": "nWRVMatcYAuy",
    "outputId": "4d63a0f7-24f8-43a7-eca5-54ec4777a665"
   },
   "id": "nWRVMatcYAuy",
   "execution_count": 8,
   "outputs": [
    {
     "output_type": "stream",
     "name": "stdout",
     "text": [
      "Epoch 1/5\n",
      "\u001B[1m313/313\u001B[0m \u001B[32m━━━━━━━━━━━━━━━━━━━━\u001B[0m\u001B[37m\u001B[0m \u001B[1m10s\u001B[0m 15ms/step - accuracy: 0.7556 - loss: 0.6687\n",
      "Epoch 2/5\n",
      "\u001B[1m313/313\u001B[0m \u001B[32m━━━━━━━━━━━━━━━━━━━━\u001B[0m\u001B[37m\u001B[0m \u001B[1m2s\u001B[0m 5ms/step - accuracy: 0.8370 - loss: 0.4915\n",
      "Epoch 3/5\n",
      "\u001B[1m313/313\u001B[0m \u001B[32m━━━━━━━━━━━━━━━━━━━━\u001B[0m\u001B[37m\u001B[0m \u001B[1m2s\u001B[0m 5ms/step - accuracy: 0.8375 - loss: 0.4955\n",
      "Epoch 4/5\n",
      "\u001B[1m313/313\u001B[0m \u001B[32m━━━━━━━━━━━━━━━━━━━━\u001B[0m\u001B[37m\u001B[0m \u001B[1m2s\u001B[0m 5ms/step - accuracy: 0.8398 - loss: 0.5195\n",
      "Epoch 5/5\n",
      "\u001B[1m313/313\u001B[0m \u001B[32m━━━━━━━━━━━━━━━━━━━━\u001B[0m\u001B[37m\u001B[0m \u001B[1m2s\u001B[0m 5ms/step - accuracy: 0.8391 - loss: 0.5581\n"
     ]
    },
    {
     "output_type": "execute_result",
     "data": {
      "text/plain": [
       "<keras.src.callbacks.history.History at 0x7d77262edd60>"
      ]
     },
     "metadata": {},
     "execution_count": 8
    }
   ]
  },
  {
   "cell_type": "code",
   "source": [
    "# 解冻预训练层\n",
    "for layer in model2.layers[:-1]:\n",
    "  layer.trainable = True\n",
    "\n",
    "model2.compile(\n",
    "    loss=\"binary_crossentropy\",\n",
    "    optimizer=\"sgd\",\n",
    "    metrics=[\"accuracy\"]\n",
    ")\n",
    "\n",
    "model2.fit(X_train_binary_classes, y_train_binary_classes, epochs=10, validation_data=(X_test_binary_classes, y_test_binary_classes))"
   ],
   "metadata": {
    "colab": {
     "base_uri": "https://localhost:8080/"
    },
    "id": "_swKU4NgXbXt",
    "outputId": "9d6ba6c0-d66a-4874-d70c-a351c31f411c"
   },
   "id": "_swKU4NgXbXt",
   "execution_count": 9,
   "outputs": [
    {
     "output_type": "stream",
     "name": "stdout",
     "text": [
      "Epoch 1/10\n",
      "\u001B[1m313/313\u001B[0m \u001B[32m━━━━━━━━━━━━━━━━━━━━\u001B[0m\u001B[37m\u001B[0m \u001B[1m30s\u001B[0m 53ms/step - accuracy: 0.8645 - loss: 0.3491 - val_accuracy: 0.9180 - val_loss: 0.2461\n",
      "Epoch 2/10\n",
      "\u001B[1m313/313\u001B[0m \u001B[32m━━━━━━━━━━━━━━━━━━━━\u001B[0m\u001B[37m\u001B[0m \u001B[1m22s\u001B[0m 16ms/step - accuracy: 0.9320 - loss: 0.1797 - val_accuracy: 0.9475 - val_loss: 0.1463\n",
      "Epoch 3/10\n",
      "\u001B[1m313/313\u001B[0m \u001B[32m━━━━━━━━━━━━━━━━━━━━\u001B[0m\u001B[37m\u001B[0m \u001B[1m5s\u001B[0m 15ms/step - accuracy: 0.9412 - loss: 0.1546 - val_accuracy: 0.9505 - val_loss: 0.1337\n",
      "Epoch 4/10\n",
      "\u001B[1m313/313\u001B[0m \u001B[32m━━━━━━━━━━━━━━━━━━━━\u001B[0m\u001B[37m\u001B[0m \u001B[1m5s\u001B[0m 16ms/step - accuracy: 0.9498 - loss: 0.1313 - val_accuracy: 0.9580 - val_loss: 0.1109\n",
      "Epoch 5/10\n",
      "\u001B[1m313/313\u001B[0m \u001B[32m━━━━━━━━━━━━━━━━━━━━\u001B[0m\u001B[37m\u001B[0m \u001B[1m5s\u001B[0m 15ms/step - accuracy: 0.9552 - loss: 0.1163 - val_accuracy: 0.9625 - val_loss: 0.1040\n",
      "Epoch 6/10\n",
      "\u001B[1m313/313\u001B[0m \u001B[32m━━━━━━━━━━━━━━━━━━━━\u001B[0m\u001B[37m\u001B[0m \u001B[1m5s\u001B[0m 15ms/step - accuracy: 0.9581 - loss: 0.1064 - val_accuracy: 0.9610 - val_loss: 0.1003\n",
      "Epoch 7/10\n",
      "\u001B[1m313/313\u001B[0m \u001B[32m━━━━━━━━━━━━━━━━━━━━\u001B[0m\u001B[37m\u001B[0m \u001B[1m5s\u001B[0m 16ms/step - accuracy: 0.9609 - loss: 0.1042 - val_accuracy: 0.9635 - val_loss: 0.0969\n",
      "Epoch 8/10\n",
      "\u001B[1m313/313\u001B[0m \u001B[32m━━━━━━━━━━━━━━━━━━━━\u001B[0m\u001B[37m\u001B[0m \u001B[1m5s\u001B[0m 15ms/step - accuracy: 0.9668 - loss: 0.0900 - val_accuracy: 0.9660 - val_loss: 0.0906\n",
      "Epoch 9/10\n",
      "\u001B[1m313/313\u001B[0m \u001B[32m━━━━━━━━━━━━━━━━━━━━\u001B[0m\u001B[37m\u001B[0m \u001B[1m5s\u001B[0m 17ms/step - accuracy: 0.9638 - loss: 0.0950 - val_accuracy: 0.9690 - val_loss: 0.0892\n",
      "Epoch 10/10\n",
      "\u001B[1m313/313\u001B[0m \u001B[32m━━━━━━━━━━━━━━━━━━━━\u001B[0m\u001B[37m\u001B[0m \u001B[1m5s\u001B[0m 16ms/step - accuracy: 0.9705 - loss: 0.0836 - val_accuracy: 0.9685 - val_loss: 0.0888\n"
     ]
    },
    {
     "output_type": "execute_result",
     "data": {
      "text/plain": [
       "<keras.src.callbacks.history.History at 0x7d772627aba0>"
      ]
     },
     "metadata": {},
     "execution_count": 9
    }
   ]
  },
  {
   "cell_type": "markdown",
   "source": [
    "可以看到，模型表现很不错，训练集和验证集均达到了97%的准确率"
   ],
   "metadata": {
    "id": "cPmzuIy-CvYm"
   },
   "id": "cPmzuIy-CvYm"
  }
 ],
 "metadata": {
  "kernelspec": {
   "display_name": "Python 3",
   "name": "python3"
  },
  "language_info": {
   "codemirror_mode": {
    "name": "ipython",
    "version": 2
   },
   "file_extension": ".py",
   "mimetype": "text/x-python",
   "name": "python",
   "nbconvert_exporter": "python",
   "pygments_lexer": "ipython2",
   "version": "2.7.6"
  },
  "colab": {
   "provenance": [],
   "gpuType": "T4"
  },
  "accelerator": "GPU"
 },
 "nbformat": 4,
 "nbformat_minor": 5
}
