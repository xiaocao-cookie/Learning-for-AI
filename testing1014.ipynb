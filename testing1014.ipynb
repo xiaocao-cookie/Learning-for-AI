{
 "cells": [
  {
   "metadata": {},
   "cell_type": "markdown",
   "source": "# Python + 深度学习考试",
   "id": "eb7697d3bf4ee3e7"
  },
  {
   "metadata": {},
   "cell_type": "markdown",
   "source": [
    "## 一、选择题\n",
    "A C C A C B A C"
   ],
   "id": "4d98d6556a1726b8"
  },
  {
   "metadata": {},
   "cell_type": "markdown",
   "source": "## 二、Python程序分析",
   "id": "20ed8d398180976b"
  },
  {
   "cell_type": "code",
   "id": "initial_id",
   "metadata": {
    "collapsed": true,
    "ExecuteTime": {
     "end_time": "2025-10-14T07:48:59.118459Z",
     "start_time": "2025-10-14T07:48:58.736560Z"
    }
   },
   "source": [
    "# 以下程序的功能是对随机产生的 1～100 之间的一个整数 n，利用二分法查找这个数并输出查找的次数。\n",
    "\n",
    "import random\n",
    "import math\n",
    "\n",
    "import pandas as pd\n",
    "\n",
    "n = random.randint(1, 100)  # 函数 random.randint(a,b) 返回从 a 到 b 之间随机选出的一个整数\n",
    "a, b, cnt = 1, 100, 0\n",
    "while a <= b:\n",
    "    cnt += 1\n",
    "    m = math.ceil((a + b) / 2)  # 函数 math.ceil(x) 的返回值为数值 x 的向上取整\n",
    "    if n < m:\n",
    "        b = m - 1\n",
    "    elif n > m:\n",
    "        a = m + 1\n",
    "    else:\n",
    "        break\n",
    "print(cnt)"
   ],
   "outputs": [
    {
     "name": "stdout",
     "output_type": "stream",
     "text": [
      "3\n"
     ]
    }
   ],
   "execution_count": 1
  },
  {
   "metadata": {
    "ExecuteTime": {
     "end_time": "2025-10-14T07:49:02.512146Z",
     "start_time": "2025-10-14T07:48:59.663673Z"
    }
   },
   "cell_type": "code",
   "source": [
    "# 2. 以下程序读入正整数 n，计算\n",
    "#  S = 1! − 2! + 3! − 4! + 5! − …… ± n!\n",
    "\n",
    "n = int(input())\n",
    "S = 0\n",
    "sign = 1\n",
    "k = 1\n",
    "for i in range(1, n + 1):\n",
    "    k = i * k\n",
    "    S += sign * k\n",
    "    sign = -sign\n",
    "print(S)"
   ],
   "id": "20d546592e95ddd2",
   "outputs": [
    {
     "name": "stdout",
     "output_type": "stream",
     "text": [
      "101\n"
     ]
    }
   ],
   "execution_count": 2
  },
  {
   "metadata": {
    "ExecuteTime": {
     "end_time": "2025-10-14T07:49:06.003891Z",
     "start_time": "2025-10-14T07:49:05.991738Z"
    }
   },
   "cell_type": "code",
   "source": [
    "# 3. 下面程序中的 Change 函数的功能是将十进制数转化 N 进制数（2 <= N <= 16）。\n",
    "#  输入目标进制和待转换的数，函数返回转换后的目标进制数。\n",
    "\n",
    "def Change(radix, num):\n",
    "    g = []\n",
    "    while num != 0:\n",
    "        r = num % radix\n",
    "        num = num // radix\n",
    "        g.append(r)\n",
    "    ans = ''\n",
    "    t = ('A', 'B', 'C', 'D', 'E', 'F')\n",
    "    for x in range(len(g)):\n",
    "        if g[x] >= 10:\n",
    "            ans += t[g[x] - 10]\n",
    "        else:\n",
    "            ans += str(g[x])\n",
    "    return ans[::-1]\n",
    "\n",
    "print(Change(16, 12455))"
   ],
   "id": "1849a8f949aecf37",
   "outputs": [
    {
     "name": "stdout",
     "output_type": "stream",
     "text": [
      "30A7\n"
     ]
    }
   ],
   "execution_count": 3
  },
  {
   "metadata": {
    "ExecuteTime": {
     "end_time": "2025-10-14T07:49:06.454541Z",
     "start_time": "2025-10-14T07:49:06.438784Z"
    }
   },
   "cell_type": "code",
   "source": [
    "# 4. 给定一个整数的数字列表 L，判断 L 中是否存在相同数字，若存在返回 True，否则返回 False。\n",
    "\n",
    "def identical(L):\n",
    "    flag = 0\n",
    "    L.sort()\n",
    "    for i in range(len(L) - 1):\n",
    "        if L[i] == L[i+1]:\n",
    "            flag = 1\n",
    "            break\n",
    "    if flag:\n",
    "        return True\n",
    "    else:\n",
    "        return False\n",
    "\n",
    "L1 = [5, 4, 5, 1, 0]\n",
    "L2 = [1, 2, 3, 0]\n",
    "print(identical(L1))\n",
    "print(identical(L2))"
   ],
   "id": "3f1566a16904d5c1",
   "outputs": [
    {
     "name": "stdout",
     "output_type": "stream",
     "text": [
      "True\n",
      "False\n"
     ]
    }
   ],
   "execution_count": 4
  },
  {
   "metadata": {
    "ExecuteTime": {
     "end_time": "2025-10-14T07:49:08.425259Z",
     "start_time": "2025-10-14T07:49:08.409534Z"
    }
   },
   "cell_type": "code",
   "source": [
    "# 5. 程序填空。一个列表 a 中记录了连续多天的营业额，求其中最长的**连续增长（不含相等）**的子序列的长度。\n",
    "#  例如 [5, 1, 2, 3, 5, 9, 6, 7, 4, 6, 8] 中最长的连续增长（不含相等）的子序列长度是 5（即 [1, 2, 3, 5, 9] 的长度）。\n",
    "\n",
    "\n",
    "a = [5, 1, 2, 3, 5, 9, 6, 7, 4, 6, 8]\n",
    "maxlen = 1\n",
    "n = 1\n",
    "for i in range(1, len(a) - 1):\n",
    "    if a[i + 1] - a[i] > 0:\n",
    "        n += 1\n",
    "        if maxlen < n:\n",
    "            maxlen = n\n",
    "    else:\n",
    "        n = 1\n",
    "print(maxlen)"
   ],
   "id": "4c5cb02dc1c686ec",
   "outputs": [
    {
     "name": "stdout",
     "output_type": "stream",
     "text": [
      "5\n"
     ]
    }
   ],
   "execution_count": 5
  },
  {
   "metadata": {},
   "cell_type": "markdown",
   "source": [
    "## 三、Python数据分析（Pandas）\n",
    "\n",
    "描述（Description）\n",
    "你获得了一组包含出租车司机及其乘车信息的数据集。\n",
    " 你的任务是对这些数据进行一些基本分析，并将结果保存到一个 CSV 文件中。\n",
    " 数据包含在以下 CSV 文件中：\n",
    "\n",
    "drivers.csv\n",
    "\n",
    "●driver_id（类型：int）：司机唯一标识符\n",
    "\n",
    "●age（类型：int）：司机年龄\n",
    "\n",
    "●second_language（类型：str）：司机的第二语言。如果司机没有第二语言，值为 \"no\"\n",
    "\n",
    "●rating（类型：float）：司机的平均评分\n",
    "\n",
    "rides_{i}.csv\n",
    "\n",
    "分成 4 个文件（rides_1.csv 到 rides_4.csv）：\n",
    "\n",
    "●ride_id（类型：int）：唯一的乘车标识符\n",
    "\n",
    "●driver_id（类型：int）：司机标识符\n",
    "\n",
    "●passenger_id（类型：int）：乘客标识符\n",
    "\n",
    "●date（类型：str）：乘车日期\n",
    "\n",
    "●status（类型：str）：乘车状态，可能的值包括\n",
    "\n",
    "○\"Rejected by the driver\"（司机拒绝）\n",
    "\n",
    "○\"Cancelled by the passenger\"（乘客取消）\n",
    "\n",
    "○\"Success\"（成功）"
   ],
   "id": "7b9af7bb74828560"
  },
  {
   "metadata": {},
   "cell_type": "markdown",
   "source": [
    "### 1️⃣ 计算司机的平均评分（Average Driver Rating）\n",
    "\n",
    "- 从 drivers.csv 文件中计算 rating 列的平均值。\n",
    "- 将结果保存为：\n",
    "    - insight_type: \"average_driver_rating\"\n",
    "    - value: 计算出的平均评分\n"
   ],
   "id": "12d9b74211b63b97"
  },
  {
   "metadata": {
    "ExecuteTime": {
     "end_time": "2025-10-14T07:49:11.499618Z",
     "start_time": "2025-10-14T07:49:11.483960Z"
    }
   },
   "cell_type": "code",
   "source": [
    "import pandas as pd\n",
    "driver_ds = pd.read_csv(\"../exams/driver.csv\")"
   ],
   "id": "d590950041eab297",
   "outputs": [],
   "execution_count": 6
  },
  {
   "metadata": {
    "ExecuteTime": {
     "end_time": "2025-10-14T07:49:13.283936Z",
     "start_time": "2025-10-14T07:49:13.253176Z"
    }
   },
   "cell_type": "code",
   "source": "driver_ds",
   "id": "bb9a87b03996ed8b",
   "outputs": [
    {
     "data": {
      "text/plain": [
       "    driver_id  age second_language  rating\n",
       "0        1000   39             NaN     4.7\n",
       "1        1001   33         Spanish     4.1\n",
       "2        1002   41          German     4.6\n",
       "3        1003   50         Russian     4.9\n",
       "4        1004   32         Spanish     4.0\n",
       "..        ...  ...             ...     ...\n",
       "75       1075   43         English     4.7\n",
       "76       1076   35          French     4.4\n",
       "77       1077   32         English     4.7\n",
       "78       1078   35             NaN     4.3\n",
       "79       1079   21             NaN     4.4\n",
       "\n",
       "[80 rows x 4 columns]"
      ],
      "text/html": [
       "<div>\n",
       "<style scoped>\n",
       "    .dataframe tbody tr th:only-of-type {\n",
       "        vertical-align: middle;\n",
       "    }\n",
       "\n",
       "    .dataframe tbody tr th {\n",
       "        vertical-align: top;\n",
       "    }\n",
       "\n",
       "    .dataframe thead th {\n",
       "        text-align: right;\n",
       "    }\n",
       "</style>\n",
       "<table border=\"1\" class=\"dataframe\">\n",
       "  <thead>\n",
       "    <tr style=\"text-align: right;\">\n",
       "      <th></th>\n",
       "      <th>driver_id</th>\n",
       "      <th>age</th>\n",
       "      <th>second_language</th>\n",
       "      <th>rating</th>\n",
       "    </tr>\n",
       "  </thead>\n",
       "  <tbody>\n",
       "    <tr>\n",
       "      <th>0</th>\n",
       "      <td>1000</td>\n",
       "      <td>39</td>\n",
       "      <td>NaN</td>\n",
       "      <td>4.7</td>\n",
       "    </tr>\n",
       "    <tr>\n",
       "      <th>1</th>\n",
       "      <td>1001</td>\n",
       "      <td>33</td>\n",
       "      <td>Spanish</td>\n",
       "      <td>4.1</td>\n",
       "    </tr>\n",
       "    <tr>\n",
       "      <th>2</th>\n",
       "      <td>1002</td>\n",
       "      <td>41</td>\n",
       "      <td>German</td>\n",
       "      <td>4.6</td>\n",
       "    </tr>\n",
       "    <tr>\n",
       "      <th>3</th>\n",
       "      <td>1003</td>\n",
       "      <td>50</td>\n",
       "      <td>Russian</td>\n",
       "      <td>4.9</td>\n",
       "    </tr>\n",
       "    <tr>\n",
       "      <th>4</th>\n",
       "      <td>1004</td>\n",
       "      <td>32</td>\n",
       "      <td>Spanish</td>\n",
       "      <td>4.0</td>\n",
       "    </tr>\n",
       "    <tr>\n",
       "      <th>...</th>\n",
       "      <td>...</td>\n",
       "      <td>...</td>\n",
       "      <td>...</td>\n",
       "      <td>...</td>\n",
       "    </tr>\n",
       "    <tr>\n",
       "      <th>75</th>\n",
       "      <td>1075</td>\n",
       "      <td>43</td>\n",
       "      <td>English</td>\n",
       "      <td>4.7</td>\n",
       "    </tr>\n",
       "    <tr>\n",
       "      <th>76</th>\n",
       "      <td>1076</td>\n",
       "      <td>35</td>\n",
       "      <td>French</td>\n",
       "      <td>4.4</td>\n",
       "    </tr>\n",
       "    <tr>\n",
       "      <th>77</th>\n",
       "      <td>1077</td>\n",
       "      <td>32</td>\n",
       "      <td>English</td>\n",
       "      <td>4.7</td>\n",
       "    </tr>\n",
       "    <tr>\n",
       "      <th>78</th>\n",
       "      <td>1078</td>\n",
       "      <td>35</td>\n",
       "      <td>NaN</td>\n",
       "      <td>4.3</td>\n",
       "    </tr>\n",
       "    <tr>\n",
       "      <th>79</th>\n",
       "      <td>1079</td>\n",
       "      <td>21</td>\n",
       "      <td>NaN</td>\n",
       "      <td>4.4</td>\n",
       "    </tr>\n",
       "  </tbody>\n",
       "</table>\n",
       "<p>80 rows × 4 columns</p>\n",
       "</div>"
      ]
     },
     "execution_count": 7,
     "metadata": {},
     "output_type": "execute_result"
    }
   ],
   "execution_count": 7
  },
  {
   "metadata": {
    "ExecuteTime": {
     "end_time": "2025-10-14T07:49:15.117234Z",
     "start_time": "2025-10-14T07:49:15.101498Z"
    }
   },
   "cell_type": "code",
   "source": [
    "# 从 drivers.csv 文件中计算 rating 列的平均值。\n",
    "average_drive_rating = driver_ds['rating'].mean()\n",
    "average_drive_rating"
   ],
   "id": "7058db908bc6ae08",
   "outputs": [
    {
     "data": {
      "text/plain": [
       "4.5287500000000005"
      ]
     },
     "execution_count": 8,
     "metadata": {},
     "output_type": "execute_result"
    }
   ],
   "execution_count": 8
  },
  {
   "metadata": {},
   "cell_type": "markdown",
   "source": [
    "### 2️⃣ 计算拥有第二语言的司机比例（Percentage of Drivers with a Second Language）\n",
    "\n",
    "- 计算拥有第二语言的司机的比例（即 second_language 不为 \"no\" 的司机占总司机数的百分比）。\n",
    "- 将结果保存为：\n",
    "    - insight_type: \"percentage_drivers_with_second_language\"\n",
    "    - value: 计算出的百分比\n"
   ],
   "id": "c09119518bdce670"
  },
  {
   "metadata": {
    "ExecuteTime": {
     "end_time": "2025-10-14T07:49:16.461575Z",
     "start_time": "2025-10-14T07:49:16.432589Z"
    }
   },
   "cell_type": "code",
   "source": [
    "percentage_drivers_with_second_language = 1 - driver_ds['second_language'].isnull().sum() / driver_ds['driver_id'].count()\n",
    "percentage_drivers_with_second_language"
   ],
   "id": "41b718e55db269ab",
   "outputs": [
    {
     "data": {
      "text/plain": [
       "0.825"
      ]
     },
     "execution_count": 9,
     "metadata": {},
     "output_type": "execute_result"
    }
   ],
   "execution_count": 9
  },
  {
   "metadata": {},
   "cell_type": "markdown",
   "source": [
    "### 3️⃣ 计算乘车成功率（Ride Success Rate）\n",
    "\n",
    "- 将所有 rides_{i}.csv 文件（从 1 到 4）合并为一个整体数据集。\n",
    "- 计算成功乘车（即 status == \"Success\"）的比例。\n",
    "- 将结果保存为：\n",
    "    - insight_type: \"ride_success_rate\"\n",
    "    - value: 计算出的百分比\n"
   ],
   "id": "5357b8914d7eb7b0"
  },
  {
   "metadata": {
    "ExecuteTime": {
     "end_time": "2025-10-14T07:49:17.751298Z",
     "start_time": "2025-10-14T07:49:17.735418Z"
    }
   },
   "cell_type": "code",
   "source": [
    "data_list = []\n",
    "for i in range(1, 4):\n",
    "    rides_data = pd.read_csv(f\"../exams/rides_{i}.csv\")\n",
    "    data_list.append(rides_data)\n",
    "\n",
    "all_data = pd.concat(data_list)"
   ],
   "id": "c0aab88595ae92e3",
   "outputs": [],
   "execution_count": 10
  },
  {
   "metadata": {
    "ExecuteTime": {
     "end_time": "2025-10-14T07:49:18.603094Z",
     "start_time": "2025-10-14T07:49:18.587298Z"
    }
   },
   "cell_type": "code",
   "source": [
    "ride_success_rate = (all_data[\"status\"] == \"成功\").sum() / all_data[\"status\"].count()\n",
    "ride_success_rate"
   ],
   "id": "7bc8672616ac3367",
   "outputs": [
    {
     "data": {
      "text/plain": [
       "0.6714285714285714"
      ]
     },
     "execution_count": 11,
     "metadata": {},
     "output_type": "execute_result"
    }
   ],
   "execution_count": 11
  },
  {
   "metadata": {},
   "cell_type": "markdown",
   "source": [
    "输出要求（Output Requirements）\n",
    "\n",
    "- 将结果保存到一个名为 analysis_results.csv 的 CSV 文件中 （用代码保存）。\n",
    "- 该 CSV 文件应包含两列：\n",
    "    - insight_type\n",
    "    - value\n",
    "- 每一行对应一个任务结果，insight_type 为任务名称，value 为计算结果。\n",
    "- 所有数值在保留两位小数的范围内视为正确。\n"
   ],
   "id": "5685c53ece8b9c74"
  },
  {
   "metadata": {
    "ExecuteTime": {
     "end_time": "2025-10-14T07:49:20.966671Z",
     "start_time": "2025-10-14T07:49:20.951021Z"
    }
   },
   "cell_type": "code",
   "source": "result = pd.DataFrame(columns=[\"insight_type\", \"value\"])",
   "id": "25b347d60ce0a858",
   "outputs": [],
   "execution_count": 12
  },
  {
   "metadata": {
    "ExecuteTime": {
     "end_time": "2025-10-14T07:49:21.906572Z",
     "start_time": "2025-10-14T07:49:21.883872Z"
    }
   },
   "cell_type": "code",
   "source": [
    "data_dict = {\n",
    "    \"insight_type\": [\n",
    "        \"average_drive_rating\",\n",
    "        \"percentage_drivers_with_second_language\",\n",
    "        \"ride_success_rate\"\n",
    "    ],\n",
    "    \"value\" : [average_drive_rating.round(2),\n",
    "               percentage_drivers_with_second_language.round(2),\n",
    "               ride_success_rate.round(2)]\n",
    "}\n",
    "result = pd.DataFrame(data_dict, columns=[\"insight_type\", \"value\"])\n",
    "result"
   ],
   "id": "8cd8ea8630de9c95",
   "outputs": [
    {
     "data": {
      "text/plain": [
       "                              insight_type  value\n",
       "0                     average_drive_rating   4.53\n",
       "1  percentage_drivers_with_second_language   0.82\n",
       "2                        ride_success_rate   0.67"
      ],
      "text/html": [
       "<div>\n",
       "<style scoped>\n",
       "    .dataframe tbody tr th:only-of-type {\n",
       "        vertical-align: middle;\n",
       "    }\n",
       "\n",
       "    .dataframe tbody tr th {\n",
       "        vertical-align: top;\n",
       "    }\n",
       "\n",
       "    .dataframe thead th {\n",
       "        text-align: right;\n",
       "    }\n",
       "</style>\n",
       "<table border=\"1\" class=\"dataframe\">\n",
       "  <thead>\n",
       "    <tr style=\"text-align: right;\">\n",
       "      <th></th>\n",
       "      <th>insight_type</th>\n",
       "      <th>value</th>\n",
       "    </tr>\n",
       "  </thead>\n",
       "  <tbody>\n",
       "    <tr>\n",
       "      <th>0</th>\n",
       "      <td>average_drive_rating</td>\n",
       "      <td>4.53</td>\n",
       "    </tr>\n",
       "    <tr>\n",
       "      <th>1</th>\n",
       "      <td>percentage_drivers_with_second_language</td>\n",
       "      <td>0.82</td>\n",
       "    </tr>\n",
       "    <tr>\n",
       "      <th>2</th>\n",
       "      <td>ride_success_rate</td>\n",
       "      <td>0.67</td>\n",
       "    </tr>\n",
       "  </tbody>\n",
       "</table>\n",
       "</div>"
      ]
     },
     "execution_count": 13,
     "metadata": {},
     "output_type": "execute_result"
    }
   ],
   "execution_count": 13
  },
  {
   "metadata": {
    "ExecuteTime": {
     "end_time": "2025-10-14T07:49:23.134579Z",
     "start_time": "2025-10-14T07:49:23.103566Z"
    }
   },
   "cell_type": "code",
   "source": "result.to_csv(\"../exams/analysis_results.csv\", index=False)",
   "id": "255c7efdfdc80186",
   "outputs": [],
   "execution_count": 14
  },
  {
   "metadata": {},
   "cell_type": "markdown",
   "source": [
    "analysis_results.csv 文件内容如下\n",
    "\n",
    "```text\n",
    "insight_type,value\n",
    "average_drive_rating,4.53\n",
    "percentage_drivers_with_second_language,0.82\n",
    "ride_success_rate,0.67\n",
    "\n",
    "```"
   ],
   "id": "a8065a031af298a3"
  },
  {
   "metadata": {},
   "cell_type": "markdown",
   "source": [
    "## 四、python深度学习\n",
    "\n",
    "深度学习训练相关名词解释\n",
    "\n",
    "- 1.简述 Batch Normalization 的基本原理与作用。\n",
    "\n",
    "批量归一化将每个批次的数据进行归一化，它先计算这批数据的均值和标准差，之后每个数据减去均值除以标准差，再乘上对应的权重加上对应的偏置，来对数据进行归一化。\n",
    "\n",
    "其作用为：保持数值的稳定性\n",
    "\n",
    "- 2.什么是 Dropout？它在深度神经网络训练中的作用是什么？\n",
    "\n",
    "Dropout 为神经网络的遗弃神经元层，它可以根据比例来遗弃某些神经元，常用来防止模型过拟合\n",
    "\n",
    "- 3.解释梯度裁剪的概念及其在训练过程中的作用。\n",
    "\n",
    "梯度裁剪分为梯度长度裁剪和梯度范数裁剪，它可以将神经网络中的梯度限制在某个范围内，可以防止模型的梯度消失和梯度爆炸\n",
    "\n",
    "- 4.什么是早停？为什么它能防止过拟合？\n",
    "\n",
    "早停的逻辑是当模型的某个监控的指标不在改善时，模型训练停止，通常监控指标会设置成验证集的准确率，一般还有个`patience` 参数，表示 `no_iter_no_change` 的轮数。由于早停的逻辑，模型不会训练那么多轮次，所以会防止过拟合\n",
    "\n",
    "- 5.数据增强（Data Augmentation）在训练过程中的意义是什么？请举例说明。\n",
    "\n",
    "数据增强一般是对图像数据做处理，目的旨在提高模型的泛化能力，数据增强的技术可以有图像翻转，图像裁剪，改变图像尺寸等等，经过数据增强，模型训练可参考的样本数就会更多，这样模型的表现能力就会更好\n",
    "\n",
    "\n",
    "- 6.什么是梯度消失？ 为什么会出现？ 有哪些解决办法？\n",
    "\n",
    "梯度消失是神经网络中梯度越来越小的问题，因为经过很多层的权重传递后，如果原本的梯度很小的话，梯度就会越乘越小，直至接近于一个0的值，这相当于此神经元被遗弃了。\n",
    "\n",
    "解决梯度消失的办法有：核初始化，dropout，层归一化等等\n",
    "\n",
    "\n",
    "- 7.什么是学习率调度？有什么好处？\n",
    "\n",
    "学习率调度是可以在模型训练中改变其学习率，可以防止模型达到局部最优而停下来\n",
    "\n"
   ],
   "id": "e538309f9b0ac024"
  },
  {
   "metadata": {},
   "cell_type": "markdown",
   "source": [
    "### 预测序列\n",
    "构建5层Sequential神经网络预测股票价格，要求包含：\n",
    "\n",
    "- 2个LSTM层（首层units=4需设置input_shape）\n",
    "- 每个LSTM层后接Dropout层(rate=0.2)\n",
    "- 最终Dense层(units=1) 实现步骤：\n",
    "    - 1.使用stock_model变量构建模型\n",
    "    - 2.编译模型(loss=‘mean_squared_error’, optimizer=‘adam’)\n",
    "    - 3.训练配置(epochs=5, batch_size=16, verbose=0)\n",
    "    - 4.输出模型summary()\n",
    "    - 5.预测x_test并输出最后一列\n",
    "注意：x_train, y_train, x_test不用再写代码改动\n"
   ],
   "id": "ca666a9173c03e7a"
  },
  {
   "metadata": {
    "ExecuteTime": {
     "end_time": "2025-10-14T07:49:27.310456Z",
     "start_time": "2025-10-14T07:49:27.294387Z"
    }
   },
   "cell_type": "code",
   "source": [
    "import numpy as np\n",
    "# 假设我们用 60 天的价格预测第 61 天价格\n",
    "time_steps = 60\n",
    "features = 1\n",
    "samples = 200\n",
    "\n",
    "# 构造输入数据 (samples, time_steps, features)\n",
    "x_train = np.random.rand(samples, time_steps, features)  # 200个 60天股票价格\n",
    "y_train = np.random.rand(samples, 1)                     # 200个 对应的第61天股票价格\n",
    "x_test  = np.random.rand(10, time_steps, features)       # 测试"
   ],
   "id": "25e1bce98f02aebc",
   "outputs": [],
   "execution_count": 15
  },
  {
   "metadata": {
    "ExecuteTime": {
     "end_time": "2025-10-14T07:49:32.319561Z",
     "start_time": "2025-10-14T07:49:29.438996Z"
    }
   },
   "cell_type": "code",
   "source": [
    "import tensorflow as tf\n",
    "\n",
    "stock_model = tf.keras.Sequential([\n",
    "    tf.keras.layers.LSTM(4, input_shape=(time_steps, features), return_sequences=True),\n",
    "    tf.keras.layers.Dropout(0.2),\n",
    "    tf.keras.layers.LSTM(4),\n",
    "    tf.keras.layers.Dropout(0.2),\n",
    "    tf.keras.layers.Dense(1)\n",
    "])"
   ],
   "id": "acc63d1a21fe90a8",
   "outputs": [],
   "execution_count": 16
  },
  {
   "metadata": {
    "ExecuteTime": {
     "end_time": "2025-10-14T07:49:37.304218Z",
     "start_time": "2025-10-14T07:49:33.214777Z"
    }
   },
   "cell_type": "code",
   "source": [
    "stock_model.compile(\n",
    "    loss=\"mean_squared_error\",\n",
    "    optimizer=\"adam\"\n",
    ")\n",
    "\n",
    "stock_model.fit(x_train, y_train, epochs=5, batch_size=16, verbose=0)"
   ],
   "id": "1364129f7a9a0575",
   "outputs": [
    {
     "data": {
      "text/plain": [
       "<keras.src.callbacks.History at 0x197d3e98130>"
      ]
     },
     "execution_count": 17,
     "metadata": {},
     "output_type": "execute_result"
    }
   ],
   "execution_count": 17
  },
  {
   "metadata": {
    "ExecuteTime": {
     "end_time": "2025-10-14T07:49:37.867675Z",
     "start_time": "2025-10-14T07:49:37.836159Z"
    }
   },
   "cell_type": "code",
   "source": "stock_model.summary()",
   "id": "146f32727c0a82b8",
   "outputs": [
    {
     "name": "stdout",
     "output_type": "stream",
     "text": [
      "Model: \"sequential\"\n",
      "_________________________________________________________________\n",
      " Layer (type)                Output Shape              Param #   \n",
      "=================================================================\n",
      " lstm (LSTM)                 (None, 60, 4)             96        \n",
      "                                                                 \n",
      " dropout (Dropout)           (None, 60, 4)             0         \n",
      "                                                                 \n",
      " lstm_1 (LSTM)               (None, 4)                 144       \n",
      "                                                                 \n",
      " dropout_1 (Dropout)         (None, 4)                 0         \n",
      "                                                                 \n",
      " dense (Dense)               (None, 1)                 5         \n",
      "                                                                 \n",
      "=================================================================\n",
      "Total params: 245 (980.00 Byte)\n",
      "Trainable params: 245 (980.00 Byte)\n",
      "Non-trainable params: 0 (0.00 Byte)\n",
      "_________________________________________________________________\n"
     ]
    }
   ],
   "execution_count": 18
  },
  {
   "metadata": {
    "ExecuteTime": {
     "end_time": "2025-10-14T07:49:39.436591Z",
     "start_time": "2025-10-14T07:49:38.826914Z"
    }
   },
   "cell_type": "code",
   "source": "stock_model.predict(x_test)[-1]",
   "id": "95432b316e3e4600",
   "outputs": [
    {
     "name": "stdout",
     "output_type": "stream",
     "text": [
      "1/1 [==============================] - 1s 552ms/step\n"
     ]
    },
    {
     "data": {
      "text/plain": [
       "array([0.4259454], dtype=float32)"
      ]
     },
     "execution_count": 19,
     "metadata": {},
     "output_type": "execute_result"
    }
   ],
   "execution_count": 19
  },
  {
   "metadata": {},
   "cell_type": "code",
   "outputs": [],
   "execution_count": null,
   "source": "",
   "id": "be072024958ae8c8"
  }
 ],
 "metadata": {
  "kernelspec": {
   "display_name": "Python 3",
   "language": "python",
   "name": "python3"
  },
  "language_info": {
   "codemirror_mode": {
    "name": "ipython",
    "version": 2
   },
   "file_extension": ".py",
   "mimetype": "text/x-python",
   "name": "python",
   "nbconvert_exporter": "python",
   "pygments_lexer": "ipython2",
   "version": "2.7.6"
  }
 },
 "nbformat": 4,
 "nbformat_minor": 5
}
