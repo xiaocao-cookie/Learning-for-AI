{
 "cells": [
  {
   "cell_type": "code",
   "id": "initial_id",
   "metadata": {
    "collapsed": true,
    "ExecuteTime": {
     "end_time": "2025-10-01T13:12:01.382560Z",
     "start_time": "2025-10-01T13:12:01.364046Z"
    }
   },
   "source": [
    "import cv2\n",
    "\n",
    "# 加载图像\n",
    "image = cv2.imread('./outputs/detected_giraffe.jpg')\n",
    "\n",
    "# 获取图像的尺寸\n",
    "height, width, channels = image.shape\n",
    "\n",
    "# 查看第一个像素的颜色值\n",
    "first_pixel = image[0, 0]\n",
    "\n",
    "# 判断格式\n",
    "if len(first_pixel) == 3:  # 彩色图像\n",
    "    if first_pixel[0] > first_pixel[2]:\n",
    "        print(\"图像是BGR格式\")\n",
    "    else:\n",
    "        print(\"图像是RGB格式\")\n",
    "else:\n",
    "    print(\"图像可能是灰度图\")\n"
   ],
   "outputs": [
    {
     "name": "stdout",
     "output_type": "stream",
     "text": [
      "图像是RGB格式\n"
     ]
    }
   ],
   "execution_count": 2
  },
  {
   "metadata": {
    "ExecuteTime": {
     "end_time": "2025-10-02T13:26:28.512800Z",
     "start_time": "2025-10-02T13:26:28.207665Z"
    }
   },
   "cell_type": "code",
   "source": [
    "import cv2\n",
    "\n",
    "# 读取视频文件\n",
    "video_path = './nb_images/road_video.mp4'  # 替换成你的 MP4 文件路径\n",
    "cap = cv2.VideoCapture(video_path)\n",
    "\n",
    "# 获取视频的帧数\n",
    "frame_count = int(cap.get(cv2.CAP_PROP_FRAME_COUNT))\n",
    "\n",
    "print(f\"视频的帧数是: {frame_count}\")\n",
    "\n",
    "# 释放视频对象\n",
    "cap.release()"
   ],
   "id": "4549cabcccda00cf",
   "outputs": [
    {
     "name": "stdout",
     "output_type": "stream",
     "text": [
      "视频的帧数是: 1164\n"
     ]
    }
   ],
   "execution_count": 1
  },
  {
   "metadata": {},
   "cell_type": "code",
   "outputs": [],
   "execution_count": null,
   "source": "",
   "id": "61c792ef39165b4a"
  }
 ],
 "metadata": {
  "kernelspec": {
   "display_name": "Python 3",
   "language": "python",
   "name": "python3"
  },
  "language_info": {
   "codemirror_mode": {
    "name": "ipython",
    "version": 2
   },
   "file_extension": ".py",
   "mimetype": "text/x-python",
   "name": "python",
   "nbconvert_exporter": "python",
   "pygments_lexer": "ipython2",
   "version": "2.7.6"
  }
 },
 "nbformat": 4,
 "nbformat_minor": 5
}
