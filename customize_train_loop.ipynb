{
 "cells": [
  {
   "metadata": {},
   "cell_type": "markdown",
   "source": [
    "# 实验目标：自定义Train Loop\n",
    "使用自定义训练循环训练模型来处理Fashion MNIST数据集：\n",
    "   - a.显示每个轮次、迭代、平均训练损失和每个轮次的平均精度（在每次迭代中更新），以及每个轮次结束时的验证损失和精度。\n",
    "   - b.尝试对上面的层和下面的层使用具有不同学习率的不同优化器。"
   ],
   "id": "6c681697c90c7981"
  },
  {
   "metadata": {},
   "cell_type": "markdown",
   "source": "# 一、数据集准备",
   "id": "dd0e070fdd51b699"
  },
  {
   "metadata": {},
   "cell_type": "markdown",
   "source": "## 数据集分离(Split)",
   "id": "9095ca88faf85cb0"
  },
  {
   "cell_type": "code",
   "id": "initial_id",
   "metadata": {
    "collapsed": true,
    "ExecuteTime": {
     "end_time": "2025-09-14T09:56:56.706695Z",
     "start_time": "2025-09-14T09:56:53.740349Z"
    }
   },
   "source": [
    "import tensorflow as tf\n",
    "\n",
    "(X_train, y_train), (X_test, y_test) = tf.keras.datasets.fashion_mnist.load_data()\n",
    "print(f\"训练集样本的形状为：{X_train.shape}\")\n",
    "print(f\"训练集样本标签的形状为：{y_train.shape}\")\n",
    "print(f\"测试集样本的形状为：{X_test.shape}\")\n",
    "print(f\"测试集标签的形状为：{y_test.shape}\")"
   ],
   "outputs": [
    {
     "name": "stdout",
     "output_type": "stream",
     "text": [
      "训练集样本的形状为：(60000, 28, 28)\n",
      "训练集样本标签的形状为：(60000,)\n",
      "测试集样本的形状为：(10000, 28, 28)\n",
      "测试集标签的形状为：(10000,)\n"
     ]
    }
   ],
   "execution_count": 1
  },
  {
   "metadata": {},
   "cell_type": "markdown",
   "source": "## 归一化数据(Normalization)",
   "id": "874547415a9f52a1"
  },
  {
   "metadata": {
    "ExecuteTime": {
     "end_time": "2025-09-14T09:56:59.029220Z",
     "start_time": "2025-09-14T09:56:58.887128Z"
    }
   },
   "cell_type": "code",
   "source": "X_train, X_test = X_train / 255., X_test/ 255.",
   "id": "6287bec99db2ae1e",
   "outputs": [],
   "execution_count": 2
  },
  {
   "metadata": {
    "ExecuteTime": {
     "end_time": "2025-09-14T09:56:59.645586Z",
     "start_time": "2025-09-14T09:56:59.562363Z"
    }
   },
   "cell_type": "code",
   "source": [
    "import numpy as np\n",
    "np.ptp(X_train), np.ptp(X_test)"
   ],
   "id": "3206cd8a7ec15d01",
   "outputs": [
    {
     "data": {
      "text/plain": [
       "(1.0, 1.0)"
      ]
     },
     "execution_count": 3,
     "metadata": {},
     "output_type": "execute_result"
    }
   ],
   "execution_count": 3
  },
  {
   "metadata": {},
   "cell_type": "markdown",
   "source": [
    "## 采样（Sampling）\n",
    "抽取一定数量的数据集作为模型每个批次的数据"
   ],
   "id": "9ba48de8d64463e4"
  },
  {
   "metadata": {
    "ExecuteTime": {
     "end_time": "2025-09-14T09:57:01.736705Z",
     "start_time": "2025-09-14T09:57:01.723792Z"
    }
   },
   "cell_type": "code",
   "source": [
    "def sampling(X, y, batch):\n",
    "    \"\"\"\n",
    "\n",
    "    :param X: 输入的训练集/测试集样本\n",
    "    :param y: 训练集/测试集标签\n",
    "    :param batch: 批次大小\n",
    "    :return: 随机采样的样本\n",
    "    \"\"\"\n",
    "    indices = np.random.randint(X.shape[0], size=batch)\n",
    "    X_batch, y_batch = X[indices], y[indices]\n",
    "    return X_batch, y_batch"
   ],
   "id": "2906bc3121dc63d8",
   "outputs": [],
   "execution_count": 4
  },
  {
   "metadata": {},
   "cell_type": "markdown",
   "source": [
    "# 二、TensorFlow中自定义训练循环\n",
    "\n",
    "搭建一个宽深神经网络模型，如下图所示，并且输入宽和输入深使用不同的优化器和学习率\n",
    "\n",
    "<center>\n",
    "<img src=\"./images/neural_network/p1.png\" style=\"zoom: 50%\">\n",
    "</center>"
   ],
   "id": "5f0b94948f598a60"
  },
  {
   "metadata": {
    "ExecuteTime": {
     "end_time": "2025-09-14T09:57:04.524041Z",
     "start_time": "2025-09-14T09:57:04.508808Z"
    }
   },
   "cell_type": "code",
   "source": [
    "# 定义一个函数，以显示训练状态\n",
    "def print_status_bar(step, total, loss, metrics=None):\n",
    "    metrics = \" - \".join([f\"{m.name}: {m.result():.4f}\" for m in [loss] + (metrics or [])])\n",
    "    end = \"\" if step < total else \"\\n\"\n",
    "\n",
    "    print(f\"\\r{step}/{total} - \" + metrics, end=end)"
   ],
   "id": "d325091ec86ad370",
   "outputs": [],
   "execution_count": 5
  },
  {
   "metadata": {
    "ExecuteTime": {
     "end_time": "2025-09-14T09:57:04.946052Z",
     "start_time": "2025-09-14T09:57:04.929985Z"
    }
   },
   "cell_type": "code",
   "source": [
    "class WideDeepModel(tf.keras.Model):\n",
    "    def __init__(self):\n",
    "        super().__init__()\n",
    "        self.layer = [\n",
    "            tf.keras.layers.Dense(300, activation=\"relu\", kernel_initializer=\"he_normal\"),\n",
    "            tf.keras.layers.Dense(100, activation=\"relu\", kernel_initializer=\"he_normal\"),\n",
    "            tf.keras.layers.Dense(10, activation=\"softmax\"),\n",
    "        ]\n",
    "        self.flat = tf.keras.layers.Flatten()\n",
    "\n",
    "    def call(self, inputs, training=True, mask=None):\n",
    "        z = self.flat(inputs)\n",
    "        for layer in self.layer:\n",
    "            z = layer(z)\n",
    "\n",
    "        return  z\n"
   ],
   "id": "68b8ad9376677888",
   "outputs": [],
   "execution_count": 6
  },
  {
   "metadata": {
    "ExecuteTime": {
     "end_time": "2025-09-14T09:57:07.589765Z",
     "start_time": "2025-09-14T09:57:07.538170Z"
    }
   },
   "cell_type": "code",
   "source": "model = WideDeepModel()",
   "id": "ff082f383f4691ec",
   "outputs": [],
   "execution_count": 7
  },
  {
   "metadata": {
    "ExecuteTime": {
     "end_time": "2025-09-14T10:00:31.809420Z",
     "start_time": "2025-09-14T09:57:08.963693Z"
    }
   },
   "cell_type": "code",
   "source": [
    "# 一些超参数\n",
    "n_epochs = 5\n",
    "batch_size = 32\n",
    "n_steps = len(X_train) // batch_size\n",
    "\n",
    "# 指定训练的优化器、损失和指标\n",
    "lr_schedule = tf.keras.optimizers.schedules.ExponentialDecay(initial_learning_rate=0.001, decay_steps=1000, decay_rate=0.9)\n",
    "optimizer1 = tf.keras.optimizers.SGD(learning_rate=lr_schedule)\n",
    "optimizer2 = tf.keras.optimizers.Adam(learning_rate=lr_schedule)\n",
    "\n",
    "loss = tf.keras.losses.SparseCategoricalCrossentropy()\n",
    "metrics = [tf.keras.metrics.SparseCategoricalAccuracy()]\n",
    "\n",
    "# 用于计算平均损失\n",
    "mean_loss = tf.keras.metrics.Mean()\n",
    "\n",
    "# 自定义训练循环，类似于TensorFlow自带的fit\n",
    "for epoch in range(1, n_epochs + 1):            # 每个轮次\n",
    "    print(f\"Epoch {epoch}/{n_epochs}\")\n",
    "\n",
    "    # 训练阶段\n",
    "    print(\"训练中...\")\n",
    "    for step in range(1, n_steps + 1):         # 每个批次\n",
    "        X_batch, y_batch = sampling(X_train, y_train, batch_size)\n",
    "\n",
    "        with tf.GradientTape(persistent=True) as tape:\n",
    "            y_pred = model(X_batch, training=True)\n",
    "            losses = tf.reduce_mean(loss(y_batch, y_pred))\n",
    "\n",
    "        gradients1 = tape.gradient(losses, model.layer[0].trainable_variables)\n",
    "        gradients2 = tape.gradient(losses, model.layer[1].trainable_variables)\n",
    "        del tape\n",
    "\n",
    "        optimizer1.apply_gradients(zip(gradients1, model.layer[0].trainable_variables))\n",
    "        optimizer2.apply_gradients(zip(gradients2, model.layer[1].trainable_variables))\n",
    "\n",
    "        mean_loss(losses)\n",
    "        for metric in metrics:\n",
    "            metric(y_batch, y_pred)\n",
    "\n",
    "        print_status_bar(step, n_steps, mean_loss, metrics)\n",
    "\n",
    "    # 验证阶段\n",
    "    print(\"验证中....\")\n",
    "    val_steps = len(X_test) // batch_size\n",
    "\n",
    "    for step in range(1, val_steps + 1):\n",
    "        X_val_batch, y_val_batch = sampling(X_test, y_test, batch_size)\n",
    "\n",
    "        y_val_pred = model(X_val_batch, training=False)             # training=False\n",
    "        val_losses = tf.reduce_mean(loss(y_val_batch, y_val_pred))\n",
    "\n",
    "        mean_loss(val_losses)\n",
    "        for val_metric in metrics:\n",
    "            val_metric(y_val_batch, y_val_pred)\n",
    "    print(f\"验证集损失为：{mean_loss.result():.4f}，准确率为:{metrics[0].result():.4f}\")\n",
    "\n",
    "    # 下个轮次清空状态\n",
    "    for metric in [mean_loss] + metrics:\n",
    "        metric.reset_states()\n"
   ],
   "id": "a1d36c645c267760",
   "outputs": [
    {
     "name": "stdout",
     "output_type": "stream",
     "text": [
      "Epoch 1/5\n",
      "训练中...\n",
      "1875/1875 - mean: 0.5665 - sparse_categorical_accuracy: 0.8103\n",
      "验证中....\n",
      "验证集损失为：0.5566，准确率为:0.8120\n",
      "Epoch 2/5\n",
      "训练中...\n",
      "1875/1875 - mean: 0.4286 - sparse_categorical_accuracy: 0.8493\n",
      "验证中....\n",
      "验证集损失为：0.4335，准确率为:0.8471\n",
      "Epoch 3/5\n",
      "训练中...\n",
      "1875/1875 - mean: 0.3977 - sparse_categorical_accuracy: 0.8587\n",
      "验证中....\n",
      "验证集损失为：0.4035，准确率为:0.8566\n",
      "Epoch 4/5\n",
      "训练中...\n",
      "1875/1875 - mean: 0.3844 - sparse_categorical_accuracy: 0.8669\n",
      "验证中....\n",
      "验证集损失为：0.3885，准确率为:0.8650\n",
      "Epoch 5/5\n",
      "训练中...\n",
      "1875/1875 - mean: 0.3682 - sparse_categorical_accuracy: 0.8707\n",
      "验证中....\n",
      "验证集损失为：0.3761，准确率为:0.8679\n"
     ]
    }
   ],
   "execution_count": 8
  },
  {
   "metadata": {},
   "cell_type": "code",
   "outputs": [],
   "execution_count": null,
   "source": "",
   "id": "9306a47c9296431c"
  }
 ],
 "metadata": {
  "kernelspec": {
   "display_name": "Python 3",
   "language": "python",
   "name": "python3"
  },
  "language_info": {
   "codemirror_mode": {
    "name": "ipython",
    "version": 2
   },
   "file_extension": ".py",
   "mimetype": "text/x-python",
   "name": "python",
   "nbconvert_exporter": "python",
   "pygments_lexer": "ipython2",
   "version": "2.7.6"
  }
 },
 "nbformat": 4,
 "nbformat_minor": 5
}
