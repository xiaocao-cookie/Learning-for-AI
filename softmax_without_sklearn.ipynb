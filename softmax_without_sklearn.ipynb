{
 "cells": [
  {
   "metadata": {},
   "cell_type": "markdown",
   "source": [
    "项目要求：\n",
    "\n",
    "在不使用sklearn的情况下，仅使用Numpy，为softmax回归实现带早停的批量梯度下降，将它用于分类任务，例如鸢尾花数据集"
   ],
   "id": "d2dd2d09103119a"
  },
  {
   "metadata": {},
   "cell_type": "markdown",
   "source": "# 1、准备数据集（使用sklearn库中的IRIS数据集）",
   "id": "fb996508312164ab"
  },
  {
   "metadata": {
    "ExecuteTime": {
     "end_time": "2025-08-08T06:34:13.187775Z",
     "start_time": "2025-08-08T06:34:11.999760Z"
    }
   },
   "cell_type": "code",
   "source": [
    "from sklearn.datasets import load_iris\n",
    "iris = load_iris(as_frame=True)             # 这里转换成DataFrame的原因是可以对数据进行描述\n",
    "X_pd = iris[\"data\"]\n",
    "y_pd = iris[\"target\"]"
   ],
   "id": "dc94b87cfec8c95f",
   "outputs": [],
   "execution_count": 1
  },
  {
   "metadata": {
    "ExecuteTime": {
     "end_time": "2025-08-08T06:34:13.807358Z",
     "start_time": "2025-08-08T06:34:13.764892Z"
    }
   },
   "cell_type": "code",
   "source": [
    "# 简单看一下数据,因为y是分类数据，所以使用value_counts看一下他有几个类\n",
    "X_pd.describe()"
   ],
   "id": "23a9fa6eef3c41a0",
   "outputs": [
    {
     "data": {
      "text/plain": [
       "       sepal length (cm)  sepal width (cm)  petal length (cm)  \\\n",
       "count         150.000000        150.000000         150.000000   \n",
       "mean            5.843333          3.057333           3.758000   \n",
       "std             0.828066          0.435866           1.765298   \n",
       "min             4.300000          2.000000           1.000000   \n",
       "25%             5.100000          2.800000           1.600000   \n",
       "50%             5.800000          3.000000           4.350000   \n",
       "75%             6.400000          3.300000           5.100000   \n",
       "max             7.900000          4.400000           6.900000   \n",
       "\n",
       "       petal width (cm)  \n",
       "count        150.000000  \n",
       "mean           1.199333  \n",
       "std            0.762238  \n",
       "min            0.100000  \n",
       "25%            0.300000  \n",
       "50%            1.300000  \n",
       "75%            1.800000  \n",
       "max            2.500000  "
      ],
      "text/html": [
       "<div>\n",
       "<style scoped>\n",
       "    .dataframe tbody tr th:only-of-type {\n",
       "        vertical-align: middle;\n",
       "    }\n",
       "\n",
       "    .dataframe tbody tr th {\n",
       "        vertical-align: top;\n",
       "    }\n",
       "\n",
       "    .dataframe thead th {\n",
       "        text-align: right;\n",
       "    }\n",
       "</style>\n",
       "<table border=\"1\" class=\"dataframe\">\n",
       "  <thead>\n",
       "    <tr style=\"text-align: right;\">\n",
       "      <th></th>\n",
       "      <th>sepal length (cm)</th>\n",
       "      <th>sepal width (cm)</th>\n",
       "      <th>petal length (cm)</th>\n",
       "      <th>petal width (cm)</th>\n",
       "    </tr>\n",
       "  </thead>\n",
       "  <tbody>\n",
       "    <tr>\n",
       "      <th>count</th>\n",
       "      <td>150.000000</td>\n",
       "      <td>150.000000</td>\n",
       "      <td>150.000000</td>\n",
       "      <td>150.000000</td>\n",
       "    </tr>\n",
       "    <tr>\n",
       "      <th>mean</th>\n",
       "      <td>5.843333</td>\n",
       "      <td>3.057333</td>\n",
       "      <td>3.758000</td>\n",
       "      <td>1.199333</td>\n",
       "    </tr>\n",
       "    <tr>\n",
       "      <th>std</th>\n",
       "      <td>0.828066</td>\n",
       "      <td>0.435866</td>\n",
       "      <td>1.765298</td>\n",
       "      <td>0.762238</td>\n",
       "    </tr>\n",
       "    <tr>\n",
       "      <th>min</th>\n",
       "      <td>4.300000</td>\n",
       "      <td>2.000000</td>\n",
       "      <td>1.000000</td>\n",
       "      <td>0.100000</td>\n",
       "    </tr>\n",
       "    <tr>\n",
       "      <th>25%</th>\n",
       "      <td>5.100000</td>\n",
       "      <td>2.800000</td>\n",
       "      <td>1.600000</td>\n",
       "      <td>0.300000</td>\n",
       "    </tr>\n",
       "    <tr>\n",
       "      <th>50%</th>\n",
       "      <td>5.800000</td>\n",
       "      <td>3.000000</td>\n",
       "      <td>4.350000</td>\n",
       "      <td>1.300000</td>\n",
       "    </tr>\n",
       "    <tr>\n",
       "      <th>75%</th>\n",
       "      <td>6.400000</td>\n",
       "      <td>3.300000</td>\n",
       "      <td>5.100000</td>\n",
       "      <td>1.800000</td>\n",
       "    </tr>\n",
       "    <tr>\n",
       "      <th>max</th>\n",
       "      <td>7.900000</td>\n",
       "      <td>4.400000</td>\n",
       "      <td>6.900000</td>\n",
       "      <td>2.500000</td>\n",
       "    </tr>\n",
       "  </tbody>\n",
       "</table>\n",
       "</div>"
      ]
     },
     "execution_count": 2,
     "metadata": {},
     "output_type": "execute_result"
    }
   ],
   "execution_count": 2
  },
  {
   "metadata": {
    "ExecuteTime": {
     "end_time": "2025-08-08T06:34:17.186379Z",
     "start_time": "2025-08-08T06:34:17.146782Z"
    }
   },
   "cell_type": "code",
   "source": "X_pd.info()",
   "id": "ad3623d192a8874c",
   "outputs": [
    {
     "name": "stdout",
     "output_type": "stream",
     "text": [
      "<class 'pandas.core.frame.DataFrame'>\n",
      "RangeIndex: 150 entries, 0 to 149\n",
      "Data columns (total 4 columns):\n",
      " #   Column             Non-Null Count  Dtype  \n",
      "---  ------             --------------  -----  \n",
      " 0   sepal length (cm)  150 non-null    float64\n",
      " 1   sepal width (cm)   150 non-null    float64\n",
      " 2   petal length (cm)  150 non-null    float64\n",
      " 3   petal width (cm)   150 non-null    float64\n",
      "dtypes: float64(4)\n",
      "memory usage: 4.8 KB\n"
     ]
    }
   ],
   "execution_count": 3
  },
  {
   "metadata": {
    "ExecuteTime": {
     "end_time": "2025-08-08T06:34:18.345568Z",
     "start_time": "2025-08-08T06:34:18.330710Z"
    }
   },
   "cell_type": "code",
   "source": "y_pd.value_counts()",
   "id": "c75579a6945361e7",
   "outputs": [
    {
     "data": {
      "text/plain": [
       "target\n",
       "0    50\n",
       "1    50\n",
       "2    50\n",
       "Name: count, dtype: int64"
      ]
     },
     "execution_count": 4,
     "metadata": {},
     "output_type": "execute_result"
    }
   ],
   "execution_count": 4
  },
  {
   "metadata": {},
   "cell_type": "markdown",
   "source": [
    "# 2、分离数据集（shuffle + split）\n",
    "!!! 注意：对于分类的数据集打乱，打乱前后  <span style=\"color: cyan\">一定 !!! </span>  要确保X和标签y能对应上，否则数据会错误\n",
    "\n",
    "最简单的办法：打乱前后去绘图，分类数据如果明显线性可分，则表示打乱一般没问题"
   ],
   "id": "e775b9a334ff9375"
  },
  {
   "metadata": {
    "ExecuteTime": {
     "end_time": "2025-08-08T06:36:12.979960Z",
     "start_time": "2025-08-08T06:36:12.967789Z"
    }
   },
   "cell_type": "code",
   "source": [
    "import numpy as np\n",
    "# 转成NumPy数组去操作\n",
    "X = X_pd.to_numpy()\n",
    "X = X[:,[2, 3]]             # 这里去鸢尾花的花瓣长度和宽度特征（petal length和petal width）\n",
    "X = np.hstack([np.ones((X.shape[0], 1)), X])        # 加一列1，对应偏置项\n",
    "y = y_pd.to_numpy()"
   ],
   "id": "e50b2e34fffa114a",
   "outputs": [],
   "execution_count": 5
  },
  {
   "metadata": {
    "ExecuteTime": {
     "end_time": "2025-08-08T06:36:19.897367Z",
     "start_time": "2025-08-08T06:36:19.865620Z"
    }
   },
   "cell_type": "code",
   "source": [
    "np.random.seed(123)             # 设置随机数种子以复现结果\n",
    "def shuffle_and_split(X, y, train_ration=0.8):\n",
    "    \"\"\"\n",
    "    :param X: 要转换的数据，接收ndarray\n",
    "    :param train_ration: 训练集的比例, 默认0.8\n",
    "    :return: 返回两个NumPy数组，训练集和测试集（顺序不能反）\n",
    "    \"\"\"\n",
    "    arr = np.arange(len(X))\n",
    "    np.random.shuffle(arr)\n",
    "    train_size = int(len(arr) * train_ration)\n",
    "    train_indices, test_indices = arr[:train_size], arr[train_size:]\n",
    "    return X[train_indices], X[test_indices], y[train_indices], y[test_indices]\n",
    "\n",
    "X_train, X_test, y_train, y_test = shuffle_and_split(X, y)\n",
    "\n",
    "print(f\"训练集数据的形状：{X_train.shape}\")\n",
    "print(f\"训练集标签的形状：{y_train.shape}\")\n",
    "print(f\"测试集数据的形状：{X_test.shape}\")\n",
    "print(f\"测试集标签的形状：{y_test.shape}\")\n",
    "print(f\"总样本数：{len(X)}, 样本的 80% 为 {len(X) * 0.8}\")"
   ],
   "id": "ed935b29a133522d",
   "outputs": [
    {
     "name": "stdout",
     "output_type": "stream",
     "text": [
      "训练集数据的形状：(120, 3)\n",
      "训练集标签的形状：(120,)\n",
      "测试集数据的形状：(30, 3)\n",
      "测试集标签的形状：(30,)\n",
      "总样本数：150, 样本的 80% 为 120.0\n"
     ]
    }
   ],
   "execution_count": 6
  },
  {
   "metadata": {},
   "cell_type": "markdown",
   "source": [
    "# 3、实现softmax的损失函数（交叉熵损失）\n",
    "Softmax回归，也称多项式或多分类的Logistic回归\n",
    "\n",
    "对于 $K$ 个分类来说，给定一个样本 $\\mathbf{x}$, Softmax回归预测某个样本属于某个类别 $k$ 的概率定义为：\n",
    "$$\n",
    "\\hat{p}_k = \\text{softmax}(z) =  \\sigma \\bigl(\\mathbf{\\theta}_k^T \\mathbf{x} \\bigl) = \\frac{\\text{exp}(\\mathbf{\\theta}_k^T \\mathbf{x})}{\\sum_{j=1}^K\\text{exp}(\\mathbf{\\theta}_j^T \\mathbf{x})}\n",
    "$$\n",
    "其中，$\\mathbf{\\theta}_k$ 表示第 $k$个分类的权重\n",
    "\n",
    "则，对于某个样本的预测值 $\\hat{y}$,计算方法如下：\n",
    "$$\n",
    "\\hat{y}\n",
    "= \\arg\\max_{k}\\ (\\hat{p}_k)\n",
    "= \\arg\\max_{k}\\ \\sigma \\bigl(\\mathbf{\\theta}_k^T \\mathbf{x} \\bigl)\n",
    "$$\n",
    "\n",
    "对于 $m$个样本，$n$个特征，$K$ 个分类来说，Softmax 回归的交叉熵损失函数如下：\n",
    "$$\n",
    "J(\\Theta)= -\\frac{1}{m}\\sum_{i=1}^{m}\\sum_{k=1}^{K} y_{k}^{(i)} \\,\\log\\!\\left(\\hat{p}_{k}^{(i)}\\right)\n",
    "$$\n",
    "\n",
    "其中：$y_k^{(i)}$ 是属于第 $k$ 类的第 $i$ 个样本的真实值，等于 $1$ 或 $0$，具体取决于该实例是否属于该类，$\\Theta$的形状为 $K \\times m$\n",
    "\n",
    "此时，交叉熵损失函数第 k 类的梯度向量为：\n",
    "$$\n",
    "g_k = \\nabla_{\\theta^{(k)}} J(\\Theta) = \\frac{1}{m} \\sum_{i=1}^{m} \\left( \\hat{p}_k^{(i)} - y_k^{(i)} \\right) \\mathbf{x}^{(i)}\n",
    "$$\n"
   ],
   "id": "badea685b3f9057e"
  },
  {
   "metadata": {},
   "cell_type": "markdown",
   "source": [
    "## $\\ell_2$ 正则化后的交叉熵损失函数\n",
    "\n",
    "加入 $\\ell_2$ 正则化项，损失函数变为：\n",
    "$$\n",
    "J(\\Theta)= -\\frac{1}{m}\\sum_{i=1}^{m}\\sum_{k=1}^{K} y_{k}^{(i)} \\,\\log\\!\\left(\\hat{p}_{k}^{(i)}\\right) + \\frac{\\lambda}{2m} \\sum_{i=1}^m \\sum_{k=1}^K (\\theta_k^{(i)})^2\n",
    "$$\n",
    "\n",
    "其中，$\\lambda$ 是正则化系数\n",
    "\n",
    "对于上述的损失函数，类 $k$ 的梯度为：\n",
    "\n",
    "$$\n",
    "\\nabla_{\\theta^{(k)}} J(\\Theta) = \\frac{1}{m} \\sum_{i=1}^{m} \\left( \\hat{p}_k^{(i)} - y_k^{(i)} \\right) \\mathbf{x}^{(i)} + \\frac{\\lambda}{m} \\theta^{(k)}\n",
    "$$\n",
    "\n",
    "此时，梯度下降的迭代公式为：\n",
    "$$\n",
    "\\theta^{(k)} \\;\\leftarrow\\; \\theta^{(k)}-\\alpha\\Bigl[\\frac{1}{m} \\sum_{i=1}^{m} \\left( \\hat{p}_k^{(i)} - y_k^{(i)} \\right) \\mathbf{x}^{(i)} + \\frac{\\lambda}{m} \\theta^{(k)}] = {\\theta^{(k)}}\n",
    "\\Bigl(1 - \\alpha \\frac{\\lambda}{m}\\Bigr) - \\alpha g_k\n",
    "$$"
   ],
   "id": "a189a1d2028ba75f"
  },
  {
   "metadata": {
    "ExecuteTime": {
     "end_time": "2025-08-08T06:36:26.085329Z",
     "start_time": "2025-08-08T06:36:26.069560Z"
    }
   },
   "cell_type": "code",
   "source": [
    "def softmax(z):\n",
    "    \"\"\"\n",
    "    :param z: z = x @ theta.T , 形状为 (m, k)\n",
    "    :return:\n",
    "    \"\"\"\n",
    "    return np.exp(z) / np.sum(np.exp(z), axis=1, keepdims=True)"
   ],
   "id": "98e19b9a61caebb2",
   "outputs": [],
   "execution_count": 7
  },
  {
   "metadata": {
    "ExecuteTime": {
     "end_time": "2025-08-08T06:36:26.606782Z",
     "start_time": "2025-08-08T06:36:26.590929Z"
    }
   },
   "cell_type": "code",
   "source": [
    "# 实现损失函数\n",
    "def compute_loss_func(X, y, theta, lambda_):\n",
    "    \"\"\"\n",
    "\n",
    "    :param X: 样本，形状为(m, n)\n",
    "    :param y: 分类标签，形状为(m,k), 独热编码\n",
    "    :param theta: 样本的权重 (k, n)\n",
    "    :param lambda_: 正则化系数\n",
    "    :return: 损失值\n",
    "    \"\"\"\n",
    "    m = X.shape[0]\n",
    "    z = X @ theta.T\n",
    "    p = softmax(z)      # m x k\n",
    "    log_p = np.log(p)   # m x k\n",
    "    losses = np.sum(y * log_p)\n",
    "    total_theta = np.sum(np.concatenate(theta ** 2))\n",
    "\n",
    "    cost = -losses / m + (lambda_ / (2 * m)) * total_theta\n",
    "    return cost"
   ],
   "id": "2836b3c15a1aab29",
   "outputs": [],
   "execution_count": 8
  },
  {
   "metadata": {},
   "cell_type": "markdown",
   "source": "# 4、计算梯度",
   "id": "81eee18828db040c"
  },
  {
   "metadata": {
    "ExecuteTime": {
     "end_time": "2025-08-08T06:36:30.368829Z",
     "start_time": "2025-08-08T06:36:30.357044Z"
    }
   },
   "cell_type": "code",
   "source": [
    "# 计算梯度\n",
    "def compute_gradient(X, y, theta):\n",
    "    \"\"\"\n",
    "\n",
    "    :param X: 样本，形状为(m, n)\n",
    "    :param y: 标签，形状为(m, k)\n",
    "    :param theta: 样本的权重(k, n)\n",
    "    :return: 损失函数的梯度\n",
    "    \"\"\"\n",
    "    m = X.shape[0]\n",
    "    z = X @ theta.T     # m x k\n",
    "    p = softmax(z)      # m x k\n",
    "    err = p - y         # m x k\n",
    "    gk = err.T @ X / m     # k x n\n",
    "    return gk"
   ],
   "id": "a8e69db3caaf2c33",
   "outputs": [],
   "execution_count": 9
  },
  {
   "metadata": {},
   "cell_type": "markdown",
   "source": "# 5、实现梯度下降算法",
   "id": "ce07bc0974ebe483"
  },
  {
   "metadata": {
    "ExecuteTime": {
     "end_time": "2025-08-08T06:36:33.589510Z",
     "start_time": "2025-08-08T06:36:33.573680Z"
    }
   },
   "cell_type": "code",
   "source": [
    "# 标签y要转成独热编码\n",
    "def onehot_encoder(y):\n",
    "    unique, indices = np.unique(y, return_inverse=True)\n",
    "    n_rows, n_columns = len(y), len(unique)\n",
    "    onehot_mat = np.zeros((n_rows, n_columns), dtype=np.int8)\n",
    "    onehot_mat[np.arange(n_rows), unique[indices]] = 1\n",
    "    return onehot_mat"
   ],
   "id": "16bc21b58ee6808a",
   "outputs": [],
   "execution_count": 10
  },
  {
   "metadata": {
    "ExecuteTime": {
     "end_time": "2025-08-08T06:36:38.503691Z",
     "start_time": "2025-08-08T06:36:38.488463Z"
    }
   },
   "cell_type": "code",
   "source": [
    "def gradient_descent(X, y, theta_in, alpha, lambda_,\n",
    "                     cost_function, compute_gradient, num_iters,\n",
    "                     early_stopping=True, tol=1e-6, n_iter_no_change=10):\n",
    "    \"\"\"\n",
    "    :param X: 样本，形状为(m, n)\n",
    "    :param y: 标签，形状为(m, k)\n",
    "    :param theta_in: 样本的权重，形状为 (k, n)\n",
    "    :param alpha:  学习率\n",
    "    :param lambda_: 正则化强度\n",
    "    :param cost_function:  损失函数\n",
    "    :param compute_gradient: 计算梯度函数:\n",
    "    :param num_iters: 最大迭代次数\n",
    "    :param early_stopping: 是否使用早停策略，默认False\n",
    "    :param tol: 容差，早停策略，默认=1e-6\n",
    "    :param n_iter_no_change: 进行几次迭代之后损失值不变化就停止\n",
    "    :return: 损失值的列表，最终的权重\n",
    "    \"\"\"\n",
    "    theta = theta_in\n",
    "    m = X.shape[0]\n",
    "    y_onehot = onehot_encoder(y)\n",
    "\n",
    "    best_theta = theta.copy()\n",
    "    best_cost = np.inf\n",
    "    no_improve_count = 0\n",
    "\n",
    "    J_history = []          # 记录损失值列表\n",
    "    for i in range(num_iters):\n",
    "        gk = compute_gradient(X, y_onehot, theta) + (lambda_ / m) * theta\n",
    "        theta = theta - alpha * gk\n",
    "\n",
    "        cost = cost_function(X, y_onehot, theta, lambda_)\n",
    "        J_history.append(cost)\n",
    "\n",
    "        if i % 10000 == 0:\n",
    "            print(f\"迭代次数：{i}, 损失值：{float(J_history[-1]):8.2f}\")\n",
    "\n",
    "\n",
    "        # 早停\n",
    "        if early_stopping:\n",
    "            if cost < best_cost - tol:\n",
    "                best_cost = cost\n",
    "                best_theta = theta.copy()\n",
    "                no_improve_count = 0\n",
    "            else:\n",
    "                no_improve_count += 1\n",
    "                if no_improve_count >= n_iter_no_change:\n",
    "                    print(f\"\\nEarly stopping at iter {i} (best cost: {best_cost:.6f})\")\n",
    "                    break\n",
    "\n",
    "    return J_history, best_theta if early_stopping else theta"
   ],
   "id": "8b483c248ec56601",
   "outputs": [],
   "execution_count": 11
  },
  {
   "metadata": {
    "ExecuteTime": {
     "end_time": "2025-08-08T06:37:29.336030Z",
     "start_time": "2025-08-08T06:37:29.312638Z"
    }
   },
   "cell_type": "code",
   "source": [
    "# 初始化参数\n",
    "k = 3\n",
    "n = X.shape[1]\n",
    "theta_init = np.random.randn(k, n)\n",
    "alpha = 0.3\n",
    "lambda_ = 0.002\n",
    "num_iters = 10_0000"
   ],
   "id": "15ef72f39e5a09a3",
   "outputs": [],
   "execution_count": 12
  },
  {
   "metadata": {},
   "cell_type": "markdown",
   "source": "### 不使用早停策略",
   "id": "bb7a94482fe0cf"
  },
  {
   "metadata": {
    "ExecuteTime": {
     "end_time": "2025-08-08T06:38:30.371469Z",
     "start_time": "2025-08-08T06:38:23.007221Z"
    }
   },
   "cell_type": "code",
   "source": "J_history, theta_mat = gradient_descent(X_train, y_train, theta_init, alpha, lambda_, compute_loss_func, compute_gradient, num_iters, early_stopping=False)",
   "id": "f8550a164d89857",
   "outputs": [
    {
     "name": "stdout",
     "output_type": "stream",
     "text": [
      "迭代次数：0, 损失值：    2.64\n",
      "迭代次数：10000, 损失值：    0.09\n",
      "迭代次数：20000, 损失值：    0.08\n",
      "迭代次数：30000, 损失值：    0.07\n",
      "迭代次数：40000, 损失值：    0.07\n",
      "迭代次数：50000, 损失值：    0.07\n",
      "迭代次数：60000, 损失值：    0.07\n",
      "迭代次数：70000, 损失值：    0.07\n",
      "迭代次数：80000, 损失值：    0.07\n",
      "迭代次数：90000, 损失值：    0.07\n"
     ]
    }
   ],
   "execution_count": 13
  },
  {
   "metadata": {},
   "cell_type": "markdown",
   "source": "### 使用早停策略（默认）",
   "id": "969aa37fe7616629"
  },
  {
   "metadata": {
    "ExecuteTime": {
     "end_time": "2025-08-08T06:38:36.741113Z",
     "start_time": "2025-08-08T06:38:33.599151Z"
    }
   },
   "cell_type": "code",
   "source": "J_history, theta_mat = gradient_descent(X_train, y_train, theta_init, alpha, lambda_, compute_loss_func, compute_gradient, num_iters)",
   "id": "169cfcd32c4b3acb",
   "outputs": [
    {
     "name": "stdout",
     "output_type": "stream",
     "text": [
      "迭代次数：0, 损失值：    2.64\n",
      "迭代次数：10000, 损失值：    0.09\n",
      "迭代次数：20000, 损失值：    0.08\n",
      "迭代次数：30000, 损失值：    0.07\n",
      "迭代次数：40000, 损失值：    0.07\n",
      "\n",
      "Early stopping at iter 41627 (best cost: 0.070592)\n"
     ]
    }
   ],
   "execution_count": 14
  },
  {
   "metadata": {
    "ExecuteTime": {
     "end_time": "2025-08-08T06:39:47.338910Z",
     "start_time": "2025-08-08T06:39:47.323138Z"
    }
   },
   "cell_type": "code",
   "source": [
    "y_pred_proba = softmax(X_test @ theta_mat.T)\n",
    "y_pred = np.argmax(y_pred_proba, axis=1)\n",
    "y_test_one_hot = onehot_encoder(y_test)\n",
    "accuracy_rate = np.mean(np.argmax(y_test_one_hot, axis=1) == y_pred)\n",
    "print(f\"模型预测的准确率为：{accuracy_rate * 100:.3f}%\")"
   ],
   "id": "5f24fdf5a67d2c0c",
   "outputs": [
    {
     "name": "stdout",
     "output_type": "stream",
     "text": [
      "模型预测的准确率为：93.333%\n"
     ]
    }
   ],
   "execution_count": 16
  },
  {
   "metadata": {},
   "cell_type": "markdown",
   "source": "# 6、绘制损失值和决策边界",
   "id": "1683cb24f7621fca"
  },
  {
   "metadata": {
    "ExecuteTime": {
     "end_time": "2025-08-08T06:39:58.210464Z",
     "start_time": "2025-08-08T06:39:57.400725Z"
    }
   },
   "cell_type": "code",
   "source": [
    "# plot cost vs 迭代次数\n",
    "import matplotlib.pyplot as plt\n",
    "fig, (ax1, ax2) = plt.subplots(1, 2, figsize=(12, 4))\n",
    "ax1.plot(J_history)\n",
    "ax2.plot(100 + np.arange(len(J_history[100:])), J_history[100:])\n",
    "ax1.set_title(\"Cost vs. iteration\")\n",
    "ax2.set_title(\"Cost vs. iteration (tail)\")\n",
    "ax1.set_ylabel('Cost')\n",
    "ax2.set_ylabel('Cost')\n",
    "ax1.set_xlabel('iteration step')\n",
    "ax2.set_xlabel('iteration step')\n",
    "plt.show()"
   ],
   "id": "7afa7022f88d0a6d",
   "outputs": [
    {
     "data": {
      "text/plain": [
       "<Figure size 1200x400 with 2 Axes>"
      ],
      "image/png": "[encoded data removed]"
     },
     "metadata": {},
     "output_type": "display_data"
    }
   ],
   "execution_count": 17
  },
  {
   "metadata": {
    "ExecuteTime": {
     "end_time": "2025-08-08T06:40:34.655834Z",
     "start_time": "2025-08-08T06:40:34.394260Z"
    }
   },
   "cell_type": "code",
   "source": [
    "# 画决策边界\n",
    "plt.scatter(X_train[y_train==0,1], X_train[y_train==0,2], marker='o', label=\"Setosa\")\n",
    "plt.scatter(X_train[y_train==1,1], X_train[y_train==1,2], marker='+', c=\"black\", label=\"Versicolor\")\n",
    "plt.scatter(X_train[y_train==2,1], X_train[y_train==2,2], marker='x', c=\"r\", label=\"Virginica\")\n",
    "plt.legend()\n",
    "\n",
    "# 生成网格点\n",
    "x1 = np.linspace(X_train[:, 1].min() - 0.5, X_train[:, 1].max() + 0.5, 500)\n",
    "x2 = np.linspace(X_train[:, 2].min() - 0.5, X_train[:, 2].max() + 0.5, 500)\n",
    "xx, yy = np.meshgrid(x1, x2)\n",
    "\n",
    "# 对每个点进行预测\n",
    "X_mesh_test = np.c_[np.ones((xx.ravel().shape[0])), xx.ravel(), yy.ravel()]\n",
    "y_pred_proba = softmax(X_mesh_test @ theta_mat.T)\n",
    "y_pred = np.argmax(y_pred_proba, axis=1)\n",
    "\n",
    "Z = y_pred.reshape(xx.shape)\n",
    "plt.contourf(xx, yy, Z, alpha=0.3, levels=np.arange(4)-0.5, cmap='rainbow')\n",
    "plt.colorbar(ticks=[0,1,2], label='Class')\n",
    "plt.show()"
   ],
   "id": "366c3c67ecd5ee2a",
   "outputs": [
    {
     "data": {
      "text/plain": [
       "<Figure size 640x480 with 2 Axes>"
      ],
      "image/png": "[encoded data removed]"
     },
     "metadata": {},
     "output_type": "display_data"
    }
   ],
   "execution_count": 18
  },
  {
   "metadata": {},
   "cell_type": "code",
   "outputs": [],
   "execution_count": null,
   "source": "",
   "id": "7fe64d46e1dd50e4"
  }
 ],
 "metadata": {
  "kernelspec": {
   "display_name": "Python 3",
   "language": "python",
   "name": "python3"
  },
  "language_info": {
   "codemirror_mode": {
    "name": "ipython",
    "version": 2
   },
   "file_extension": ".py",
   "mimetype": "text/x-python",
   "name": "python",
   "nbconvert_exporter": "python",
   "pygments_lexer": "ipython2",
   "version": "2.7.6"
  }
 },
 "nbformat": 4,
 "nbformat_minor": 5
}
