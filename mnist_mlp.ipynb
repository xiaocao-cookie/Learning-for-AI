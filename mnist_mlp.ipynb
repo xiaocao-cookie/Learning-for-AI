{
 "cells": [
  {
   "metadata": {},
   "cell_type": "markdown",
   "source": [
    "在MNIST数据集上训练深度MLP。看看是否可以通过手动调整超参数获得98%以上的精度。\n",
    "\n",
    "首先尝试搜索最佳学习率（即通过以指数方式增加学习率，根据学习率变化绘制训练损失，并找到损失激增的点）。\n",
    "\n",
    "接下来，尝试使用Keras Tuner调整超参数——保存检查点，使用早停，并使用TensorBoard绘制学习曲线。"
   ],
   "id": "2e41e3701e4ca218"
  },
  {
   "metadata": {},
   "cell_type": "markdown",
   "source": [
    "# 一、加载数据\n",
    "除了sklearn机器学习库中的方法，还可以使用Keras库中读取数据的方法\n",
    "\n",
    " tf.keras.datasets.mnist.load_data() 返回的是两个元组且数据类型都是numpy.ndarray，第一个元组是训练集数据，第二个是测试集数据"
   ],
   "id": "d9d428439542be7d"
  },
  {
   "cell_type": "code",
   "id": "initial_id",
   "metadata": {
    "collapsed": true,
    "ExecuteTime": {
     "end_time": "2025-08-31T08:00:24.430129Z",
     "start_time": "2025-08-31T08:00:21.510192Z"
    }
   },
   "source": [
    "import numpy as np\n",
    "import tensorflow as tf\n",
    "\n",
    "(X_train, y_train), (X_test, y_test) = tf.keras.datasets.mnist.load_data()"
   ],
   "outputs": [],
   "execution_count": 1
  },
  {
   "metadata": {
    "ExecuteTime": {
     "end_time": "2025-08-31T08:00:27.243201Z",
     "start_time": "2025-08-31T08:00:27.228314Z"
    }
   },
   "cell_type": "code",
   "source": [
    "# 检查一下形状 和 分类的标签\n",
    "print(f\"X_train的形状为：{X_train.shape}\")\n",
    "print(f\"y_train的形状为：{y_train.shape}\")\n",
    "print(f\"X_test的形状为：{X_test.shape}\")\n",
    "print(f\"y_test的形状为：{y_test.shape}\")\n",
    "unique_arr, counts_arr = np.unique(y_train, return_counts=True)\n",
    "print(f\"训练集的分类标签为：\\n{unique_arr}, \\n每个分类的样本数量为：\\n{counts_arr}\")\n",
    "unique_arr, counts_arr = np.unique(y_test, return_counts=True)\n",
    "print(f\"测试集的分类标签为：\\n{unique_arr}, \\n每个分类的样本数量为：\\n{counts_arr}\")"
   ],
   "id": "48b965c4e072b09",
   "outputs": [
    {
     "name": "stdout",
     "output_type": "stream",
     "text": [
      "X_train的形状为：(60000, 28, 28)\n",
      "y_train的形状为：(60000,)\n",
      "X_test的形状为：(10000, 28, 28)\n",
      "y_test的形状为：(10000,)\n",
      "训练集的分类标签为：\n",
      "[0 1 2 3 4 5 6 7 8 9], \n",
      "每个分类的样本数量为：\n",
      "[5923 6742 5958 6131 5842 5421 5918 6265 5851 5949]\n",
      "测试集的分类标签为：\n",
      "[0 1 2 3 4 5 6 7 8 9], \n",
      "每个分类的样本数量为：\n",
      "[ 980 1135 1032 1010  982  892  958 1028  974 1009]\n"
     ]
    }
   ],
   "execution_count": 2
  },
  {
   "metadata": {},
   "cell_type": "markdown",
   "source": [
    "<span style=\"color: red\">**注意！！！下面代码只能执行一次，且在分类问题下，只能对X进行缩放**</span>\n",
    "\n",
    "因为对于颜色值 0-255 来讲，除以一次255就足以把样本的范围缩放到0-1之间了，如果下述代码运行了两次或多次，则会导致样本的尺度极其小，从而导致欠拟合，也许可能永远达不到很高的正确率。所以，对缩放数据要非常注意。或者你可以选择换个变量名，这样不管运行多少次都不会重新缩放数据\n"
   ],
   "id": "5a0d1f66cf32bd42"
  },
  {
   "metadata": {
    "ExecuteTime": {
     "end_time": "2025-08-31T08:00:30.874078Z",
     "start_time": "2025-08-31T08:00:30.730187Z"
    }
   },
   "cell_type": "code",
   "source": "X_train, X_test = X_train / 255., X_test / 255.",
   "id": "4a1d2f843b728432",
   "outputs": [],
   "execution_count": 3
  },
  {
   "metadata": {
    "ExecuteTime": {
     "end_time": "2025-08-31T08:00:31.483494Z",
     "start_time": "2025-08-31T08:00:31.400390Z"
    }
   },
   "cell_type": "code",
   "source": [
    "# 看一下是否缩放到0-1范围内\n",
    "assert 0 <= np.ptp(X_train) <= 1 and 0 <= np.ptp(X_test) <= 1 , \"未缩放到0-1范围内\""
   ],
   "id": "cfb978cbab60b491",
   "outputs": [],
   "execution_count": 4
  },
  {
   "metadata": {},
   "cell_type": "markdown",
   "source": [
    "# 二、寻找最佳学习率\n",
    "下面将通过继承Callback类，并在自定义的类中重写相应的方法去搜索最佳学习率，调整学习率的时机选择到每个轮次结束\n",
    "\n",
    "回调是在训练的不同阶段触发一系列动作的对象（例如 在轮次（epoch）的开始和结束，在批次（batch）的开始和结束）\n",
    "可以使用回调去：\n",
    "- 在每个批次训练完成后去记录TensorBoard的日志\n",
    "- 阶段性的保存模型\n",
    "- 实现早停机制\n",
    "- 在训练期间看到模型内部的状态和统计信息\n",
    "- .etc..."
   ],
   "id": "fa744f531d703f87"
  },
  {
   "metadata": {
    "ExecuteTime": {
     "end_time": "2025-08-31T08:01:14.400598Z",
     "start_time": "2025-08-31T08:00:35.301188Z"
    }
   },
   "cell_type": "code",
   "source": [
    "import matplotlib.pyplot as plt\n",
    "class tun_learning_rate(tf.keras.callbacks.Callback):\n",
    "    def __init__(self, power):\n",
    "        super().__init__()\n",
    "        self.power = power\n",
    "        self.lr_list = []\n",
    "        self.losses = []\n",
    "\n",
    "    def on_epoch_end(self, epoch, logs=None):\n",
    "        current_lr = float(tf.keras.backend.get_value(self.model.optimizer.lr))\n",
    "        self.lr_list.append(current_lr)\n",
    "        current_lr = current_lr ** (1 / self.power)\n",
    "        tf.keras.backend.set_value(self.model.optimizer.lr, current_lr)\n",
    "        self.losses.append(logs['loss'])\n",
    "\n",
    "    def on_train_end(self, logs=None):\n",
    "        log_lr = np.log(self.lr_list)\n",
    "        loss_min = np.min(self.losses)\n",
    "        min_idx = np.argmin(self.losses)\n",
    "        lr_min = log_lr[min_idx]\n",
    "        plt.plot(log_lr, self.losses, label=\"Losses\")\n",
    "        plt.scatter(lr_min, loss_min, s=50, marker=\"*\", c=\"r\", label=\"min_value\")\n",
    "        plt.vlines(lr_min, -0.1, loss_min, linestyles=\"--\", colors=\"y\", label=f\"lr_min ={self.lr_list[min_idx]:.4f}\")\n",
    "        plt.hlines(loss_min, log_lr[0], lr_min, linestyles=\"--\", colors=\"y\", label=f\"loss_min = {loss_min:.4f}\")\n",
    "        plt.legend()\n",
    "        plt.xlabel(\"Learning_Rate\")\n",
    "        plt.ylabel(\"Loss\")\n",
    "        plt.show()\n",
    "\n",
    "\n",
    "# 模型搭建\n",
    "model = tf.keras.Sequential()\n",
    "model.add(tf.keras.layers.Flatten(input_shape=[28, 28]))\n",
    "model.add(tf.keras.layers.Dense(300, activation=\"relu\"))\n",
    "model.add(tf.keras.layers.Dense(100, activation=\"relu\"))\n",
    "model.add(tf.keras.layers.Dense(10, activation=\"softmax\"))\n",
    "\n",
    "\n",
    "\n",
    "optimizer = tf.keras.optimizers.SGD(learning_rate=1e-2)\n",
    "\n",
    "# 模型编译\n",
    "model.compile(\n",
    "    optimizer=optimizer,\n",
    "    loss=\"sparse_categorical_crossentropy\",\n",
    "    metrics=\"accuracy\"\n",
    ")\n",
    "\n",
    "\n",
    "#拟合数据\n",
    "lr_tuner = tun_learning_rate(1.6)\n",
    "model.fit(X_train, y_train, epochs=10, validation_data=(X_test, y_test), callbacks=[lr_tuner])"
   ],
   "id": "b9d4eef7ebb8be7f",
   "outputs": [
    {
     "name": "stdout",
     "output_type": "stream",
     "text": [
      "Epoch 1/10\n",
      "1875/1875 [==============================] - 4s 2ms/step - loss: 0.5796 - accuracy: 0.8496 - val_loss: 0.2981 - val_accuracy: 0.9158\n",
      "Epoch 2/10\n",
      "1875/1875 [==============================] - 4s 2ms/step - loss: 0.2191 - accuracy: 0.9356 - val_loss: 0.1363 - val_accuracy: 0.9608\n",
      "Epoch 3/10\n",
      "1875/1875 [==============================] - 4s 2ms/step - loss: 0.1365 - accuracy: 0.9576 - val_loss: 0.0903 - val_accuracy: 0.9701\n",
      "Epoch 4/10\n",
      "1875/1875 [==============================] - 4s 2ms/step - loss: 0.1218 - accuracy: 0.9622 - val_loss: 0.0879 - val_accuracy: 0.9732\n",
      "Epoch 5/10\n",
      "1875/1875 [==============================] - 4s 2ms/step - loss: 0.1153 - accuracy: 0.9653 - val_loss: 0.1043 - val_accuracy: 0.9709\n",
      "Epoch 6/10\n",
      "1875/1875 [==============================] - 4s 2ms/step - loss: 0.1148 - accuracy: 0.9663 - val_loss: 0.1676 - val_accuracy: 0.9531\n",
      "Epoch 7/10\n",
      "1875/1875 [==============================] - 4s 2ms/step - loss: 0.1267 - accuracy: 0.9649 - val_loss: 0.1915 - val_accuracy: 0.9538\n",
      "Epoch 8/10\n",
      "1875/1875 [==============================] - 4s 2ms/step - loss: 0.1453 - accuracy: 0.9614 - val_loss: 0.1317 - val_accuracy: 0.9677\n",
      "Epoch 9/10\n",
      "1875/1875 [==============================] - 4s 2ms/step - loss: 0.1591 - accuracy: 0.9617 - val_loss: 0.1993 - val_accuracy: 0.9562\n",
      "Epoch 10/10\n",
      "1875/1875 [==============================] - 4s 2ms/step - loss: 0.2012 - accuracy: 0.9555 - val_loss: 0.2957 - val_accuracy: 0.9445\n"
     ]
    },
    {
     "data": {
      "text/plain": [
       "<Figure size 640x480 with 1 Axes>"
      ],
      "image/png": "[encoded data removed]"
     },
     "metadata": {},
     "output_type": "display_data"
    },
    {
     "data": {
      "text/plain": [
       "<keras.src.callbacks.History at 0x1d6230c60b0>"
      ]
     },
     "execution_count": 5,
     "metadata": {},
     "output_type": "execute_result"
    }
   ],
   "execution_count": 5
  },
  {
   "metadata": {},
   "cell_type": "markdown",
   "source": [
    "# 三、提高模型的准确率\n",
    "如果图像横轴为学习率（对数化），纵轴为损失值，则最佳学习率的值为函数最小值的 1/10，然后使用最佳的学习率继续去提高模型的性能，例如使用早停机制\n",
    "\n",
    "下面模型的回调中使用了检查点、早停和TensorBoard机制\n",
    "\n",
    "1.检查点\n",
    "\n",
    "  检查点是在训练过程中的特定时刻去**自动保存模型的当前状态**（包括权重、优化器的状态等等），通过实例化 Keras下callbacks包的ModelCheckpoint实现，至少需要传一个路径来指明你要将当前模型的检查点存在磁盘的什么位置\n",
    "\n",
    "2.早停机制\n",
    "\n",
    "   如果n轮迭代模型的损失没有变化（一定范围内无变化），则停止迭代。Keras中通过callbacks包下的EarlyStopping来实现，其中，patience参数相当于sklearn中的n_iter_no_change参数\n",
    "\n",
    "3.TensorBoard\n",
    "\n",
    "   TensorBoard 是一个内置于 tensorflow中的可视化工具包，可以将深度学习的“黑箱”变得透明化\n",
    "\n",
    "   - 首先，它通过实例化Keras中callbacks下的TensorBoard类实现对模型拟合时日志的存储，需指定一个日志保存路径\n",
    "\n",
    "   - 其次，通过命令`tensorboard --logdir=YOU_PATH`去启动可视化服务，默认启动端口号为6006. 注意路径中不能带有中文\n",
    "\n",
    "   - 最后一点需要注意的是，tensorboard生成日志文件时，文件名中会有你本机的电脑名称，如果有中文的话，也是不能可视化的\n"
   ],
   "id": "85885d9967b82b42"
  },
  {
   "metadata": {
    "ExecuteTime": {
     "end_time": "2025-08-31T08:08:06.350537Z",
     "start_time": "2025-08-31T08:07:22.597128Z"
    }
   },
   "cell_type": "code",
   "source": [
    "# 检查点只保存权重，减少磁盘占用\n",
    "checkpoint = tf.keras.callbacks.ModelCheckpoint(\"./models/my_checkpoint.weights.h5\",\n",
    "                                                save_weights_only=True)\n",
    "\n",
    "earlystop = tf.keras.callbacks.EarlyStopping(patience=10, restore_best_weights=True)\n",
    "\n",
    "tb = tf.keras.callbacks.TensorBoard(log_dir=\"./log/my_log1\")\n",
    "\n",
    "# 搭模型\n",
    "new_model = tf.keras.Sequential()\n",
    "new_model.add(tf.keras.layers.Flatten(input_shape=[28, 28]))\n",
    "new_model.add(tf.keras.layers.Dense(300, activation=\"relu\"))\n",
    "new_model.add(tf.keras.layers.Dense(100, activation=\"relu\"))\n",
    "new_model.add(tf.keras.layers.Dense(10, activation=\"softmax\"))\n",
    "\n",
    "# 编译\n",
    "new_model.compile(\n",
    "    optimizer=tf.keras.optimizers.SGD(learning_rate=0.06),\n",
    "    loss=\"sparse_categorical_crossentropy\",\n",
    "    metrics=\"accuracy\"\n",
    ")\n",
    "\n",
    "new_model.fit(X_train, y_train, epochs=10, validation_data=(X_test, y_test), callbacks=[checkpoint, earlystop, tb])"
   ],
   "id": "2d5ef0c26f9bd0a",
   "outputs": [
    {
     "name": "stdout",
     "output_type": "stream",
     "text": [
      "Epoch 1/10\n",
      "1875/1875 [==============================] - 5s 2ms/step - loss: 0.2965 - accuracy: 0.9147 - val_loss: 0.1438 - val_accuracy: 0.9584\n",
      "Epoch 2/10\n",
      "1875/1875 [==============================] - 4s 2ms/step - loss: 0.1283 - accuracy: 0.9617 - val_loss: 0.1037 - val_accuracy: 0.9675\n",
      "Epoch 3/10\n",
      "1875/1875 [==============================] - 4s 2ms/step - loss: 0.0886 - accuracy: 0.9735 - val_loss: 0.1070 - val_accuracy: 0.9653\n",
      "Epoch 4/10\n",
      "1875/1875 [==============================] - 4s 2ms/step - loss: 0.0655 - accuracy: 0.9805 - val_loss: 0.0740 - val_accuracy: 0.9769\n",
      "Epoch 5/10\n",
      "1875/1875 [==============================] - 4s 2ms/step - loss: 0.0509 - accuracy: 0.9849 - val_loss: 0.0746 - val_accuracy: 0.9753\n",
      "Epoch 6/10\n",
      "1875/1875 [==============================] - 4s 2ms/step - loss: 0.0410 - accuracy: 0.9877 - val_loss: 0.0678 - val_accuracy: 0.9785\n",
      "Epoch 7/10\n",
      "1875/1875 [==============================] - 4s 2ms/step - loss: 0.0325 - accuracy: 0.9907 - val_loss: 0.0717 - val_accuracy: 0.9754\n",
      "Epoch 8/10\n",
      "1875/1875 [==============================] - 4s 2ms/step - loss: 0.0247 - accuracy: 0.9931 - val_loss: 0.0599 - val_accuracy: 0.9796\n",
      "Epoch 9/10\n",
      "1875/1875 [==============================] - 4s 2ms/step - loss: 0.0192 - accuracy: 0.9950 - val_loss: 0.0641 - val_accuracy: 0.9790\n",
      "Epoch 10/10\n",
      "1875/1875 [==============================] - 4s 2ms/step - loss: 0.0154 - accuracy: 0.9964 - val_loss: 0.0639 - val_accuracy: 0.9786\n"
     ]
    },
    {
     "data": {
      "text/plain": [
       "<keras.src.callbacks.History at 0x1d624721540>"
      ]
     },
     "execution_count": 6,
     "metadata": {},
     "output_type": "execute_result"
    }
   ],
   "execution_count": 6
  },
  {
   "metadata": {},
   "cell_type": "markdown",
   "source": [
    "**可以看到，模型在第8个轮次时，准确率最高，约达到98%，再往后两个轮次，模型显然有点过拟合**\n",
    "\n",
    "此模型的检查点为 ./models/my_checkpoint.weights.h5\n",
    "\n",
    "此模型的日志存放在 ./log/my_log1文件夹下，在装有tensorboard的环境下，使用 tensorboard --logdir=\"./log/my_log1\"即可查看"
   ],
   "id": "f21618eacf0b020b"
  },
  {
   "metadata": {},
   "cell_type": "code",
   "outputs": [],
   "execution_count": null,
   "source": "",
   "id": "8b52be60b2eb8a83"
  }
 ],
 "metadata": {
  "kernelspec": {
   "display_name": "Python 3",
   "language": "python",
   "name": "python3"
  },
  "language_info": {
   "codemirror_mode": {
    "name": "ipython",
    "version": 2
   },
   "file_extension": ".py",
   "mimetype": "text/x-python",
   "name": "python",
   "nbconvert_exporter": "python",
   "pygments_lexer": "ipython2",
   "version": "2.7.6"
  }
 },
 "nbformat": 4,
 "nbformat_minor": 5
}
