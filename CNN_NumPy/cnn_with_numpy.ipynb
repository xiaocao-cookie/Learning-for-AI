{
 "cells": [
  {
   "metadata": {},
   "cell_type": "markdown",
   "source": "## Numpy实现卷积神经网络",
   "id": "af0b471b8112314c"
  },
  {
   "metadata": {},
   "cell_type": "markdown",
   "source": "### Zero-Padding",
   "id": "b37902b87c2db82"
  },
  {
   "metadata": {
    "ExecuteTime": {
     "end_time": "2025-10-25T05:41:23.811868Z",
     "start_time": "2025-10-25T05:41:20.757170Z"
    }
   },
   "cell_type": "code",
   "source": [
    "import numpy as np\n",
    "import matplotlib.pyplot as plt\n",
    "import cnn_utils"
   ],
   "id": "680ecba733ce5c48",
   "outputs": [],
   "execution_count": 1
  },
  {
   "metadata": {
    "ExecuteTime": {
     "end_time": "2025-10-25T05:41:24.046021Z",
     "start_time": "2025-10-25T05:41:24.030617Z"
    }
   },
   "cell_type": "code",
   "source": [
    "def zero_pad(X, pad):\n",
    "    \"\"\"\n",
    "    任务：\n",
    "    对数据集 X 中的所有图像进行零填充（padding）。填充应用于图像的高度和宽度\n",
    "    参数：\n",
    "\n",
    "    X —— 一个形状为 (m, n_H, n_W, n_C) 的 Python NumPy 数组，表示一批 m 张图像。\n",
    "\n",
    "    pad —— 整数，表示在图像的垂直和水平方向上填充的宽度。\n",
    "\n",
    "    返回值：\n",
    "\n",
    "    X_pad —— 填充后的图像数组，形状为 (m, n_H + 2 * pad, n_W + 2 * pad, n_C)。\n",
    "    \"\"\"\n",
    "    X_pad = np.pad(X, ((0, ), (pad, ), (pad, ), (0, )), mode=\"constant\", constant_values=0)\n",
    "    return X_pad"
   ],
   "id": "825bb3a6280f8ffc",
   "outputs": [],
   "execution_count": 2
  },
  {
   "metadata": {
    "ExecuteTime": {
     "end_time": "2025-10-25T05:41:24.337303Z",
     "start_time": "2025-10-25T05:41:24.060674Z"
    }
   },
   "cell_type": "code",
   "source": [
    "# 运行 + 测试 zero_pad\n",
    "np.random.seed(1)\n",
    "x = np.random.randn(4, 3, 3, 2)\n",
    "x_pad = zero_pad(x, 3)\n",
    "print (\"x.shape =\\n\", x.shape)\n",
    "print (\"x_pad.shape =\\n\", x_pad.shape)\n",
    "print (\"x[1,1] =\\n\", x[1, 1])\n",
    "print (\"x_pad[1,1] =\\n\", x_pad[1, 1])\n",
    "\n",
    "fig, axarr = plt.subplots(1, 2)\n",
    "axarr[0].set_title('x')\n",
    "axarr[0].imshow(x[0, :, :, 0])\n",
    "axarr[1].set_title('x_pad')\n",
    "axarr[1].imshow(x_pad[0, :, :, 0])\n",
    "cnn_utils.zero_pad_test(zero_pad)"
   ],
   "id": "9896a585b6bfe0c5",
   "outputs": [
    {
     "name": "stdout",
     "output_type": "stream",
     "text": [
      "x.shape =\n",
      " (4, 3, 3, 2)\n",
      "x_pad.shape =\n",
      " (4, 9, 9, 2)\n",
      "x[1,1] =\n",
      " [[ 0.90085595 -0.68372786]\n",
      " [-0.12289023 -0.93576943]\n",
      " [-0.26788808  0.53035547]]\n",
      "x_pad[1,1] =\n",
      " [[0. 0.]\n",
      " [0. 0.]\n",
      " [0. 0.]\n",
      " [0. 0.]\n",
      " [0. 0.]\n",
      " [0. 0.]\n",
      " [0. 0.]\n",
      " [0. 0.]\n",
      " [0. 0.]]\n",
      "x.shape =\n",
      " (4, 3, 3, 2)\n",
      "x_pad.shape =\n",
      " (4, 9, 9, 2)\n",
      "x[1,1] =\n",
      " [[ 0.90085595 -0.68372786]\n",
      " [-0.12289023 -0.93576943]\n",
      " [-0.26788808  0.53035547]]\n",
      "x_pad[1,1] =\n",
      " [[0. 0.]\n",
      " [0. 0.]\n",
      " [0. 0.]\n",
      " [0. 0.]\n",
      " [0. 0.]\n",
      " [0. 0.]\n",
      " [0. 0.]\n",
      " [0. 0.]\n",
      " [0. 0.]]\n",
      "[[0. 0. 0. 0. 0. 0. 0. 0. 0.]\n",
      " [0. 0. 0. 0. 0. 0. 0. 0. 0.]]\n",
      "\u001B[92mAll tests passed!\n"
     ]
    },
    {
     "data": {
      "text/plain": [
       "<Figure size 640x480 with 2 Axes>"
      ],
      "image/png": "[encoded data removed]"
     },
     "metadata": {},
     "output_type": "display_data"
    }
   ],
   "execution_count": 3
  },
  {
   "metadata": {},
   "cell_type": "markdown",
   "source": [
    "### 单步卷积\n",
    "1.对于黑白的图像（颜色通道数为1）来说，单步卷积如下图：\n",
    "<img src=\"./images/slice_convolution_example.png\">\n",
    "\n",
    "2.对于彩色的图像（颜色通道数为3）来说，单步卷积如下图：\n",
    "<img src=\"./images/rgb_convolution.jpg\">"
   ],
   "id": "ce4832ab46fbf449"
  },
  {
   "metadata": {
    "ExecuteTime": {
     "end_time": "2025-10-25T05:41:24.380577Z",
     "start_time": "2025-10-25T05:41:24.368441Z"
    }
   },
   "cell_type": "code",
   "source": [
    "def conv_single_step(a_slice_prev, W, b):\n",
    "    \"\"\"\n",
    "    **功能说明：**\n",
    "    对前一层输出激活值中的一个切片（`a_slice_prev`）应用由参数 `W` 定义的一个卷积核（filter）。\n",
    "    切片：卷积窗口当前所对应的输入，这里只需要实现卷积的一步操作，不需要滑动卷积窗口\n",
    "\n",
    "    **参数：**\n",
    "\n",
    "    * `a_slice_prev` —— 输入数据的一个切片，形状为 `(f, f, n_C_prev)`\n",
    "    * `W` —— 卷积核的权重参数，窗口矩阵，形状为 `(f, f, n_C_prev)`\n",
    "    * `b` —— 卷积核的偏置参数，窗口矩阵，形状为 `(1, 1, 1)`\n",
    "\n",
    "    **返回值：**\n",
    "\n",
    "    * `Z` —— 一个标量值，表示将卷积核 `(W, b)` 与输入数据的一个切片 `x` 进行卷积的结果。\n",
    "    \"\"\"\n",
    "    Z = np.sum(W * a_slice_prev) + np.sum(b)\n",
    "    return Z"
   ],
   "id": "d4ae141b61940400",
   "outputs": [],
   "execution_count": 4
  },
  {
   "metadata": {
    "ExecuteTime": {
     "end_time": "2025-10-25T05:41:24.422349Z",
     "start_time": "2025-10-25T05:41:24.408692Z"
    }
   },
   "cell_type": "code",
   "source": [
    "# 运行 + 测试conv_single_step\n",
    "np.random.seed(1)\n",
    "a_slice_prev = np.random.randn(4, 4, 3)\n",
    "W = np.random.randn(4, 4, 3)\n",
    "b = np.random.randn(1, 1, 1)\n",
    "\n",
    "Z = conv_single_step(a_slice_prev, W, b)\n",
    "print(\"Z =\", Z)\n",
    "cnn_utils.conv_single_step_test(conv_single_step)\n",
    "\n",
    "assert (type(Z) == np.float64), \"You must cast the output to numpy float 64\"\n",
    "assert np.isclose(Z, -6.999089450680221), \"Wrong value\""
   ],
   "id": "99d726b95229c8d5",
   "outputs": [
    {
     "name": "stdout",
     "output_type": "stream",
     "text": [
      "Z = -6.999089450680221\n",
      "\u001B[92mAll tests passed!\n"
     ]
    }
   ],
   "execution_count": 5
  },
  {
   "metadata": {},
   "cell_type": "markdown",
   "source": [
    "### 完整卷积\n",
    "\n",
    "<center>\n",
    "<table>\n",
    "<tr>\n",
    "<th style=\"font-size: 20px\">pad=1, stride=2</th>\n",
    "<th style=\"font-size: 20px\">pad=0, stride=1</th>\n",
    "<th style=\"font-size: 20px\">same padding, stride=1</th>\n",
    "</tr>\n",
    "<tr>\n",
    "<th><img src=\"./images/padding-stride-2.webp\" width=\"400\" height=\"400\"></th>\n",
    "<th><img src=\"./images/no_padding_no_strides.webp\" width=\"400\" height=\"400\"></th>\n",
    "<th><img src=\"./images/same_padding_no_strides.gif\" width=\"400\" height=\"400\"></th>\n",
    "</tr>\n",
    "</table>\n",
    "</center>\n",
    "\n",
    "\n",
    "\n",
    "在卷积神经网络中，卷积操作通常会使输入图像的尺寸缩小。对于输入大小为 $n \\times n$ 的图像，卷积核大小为 $f \\times f$，填充宽度为 $p$，步幅为 $s$，则经过卷积核之后，输出大小为：\n",
    "\n",
    "$$\n",
    "output_{size} = \\lfloor \\frac{n + 2p - f}{s} \\rfloor + 1\n",
    "$$\n",
    "\n",
    "其中：$\\lfloor \\cdot \\rfloor$ 代表向下取整\n",
    "\n",
    "例如\n",
    "\n",
    "* 输入 $7 \\times 7$，卷积核 $3 \\times 3$，无填充 ($p=0$)：\n",
    "\n",
    "  * 当 $s=1$ → 输出大小：$(7 - 3)/1 + 1 = 5$，即 $5 \\times 5$。\n",
    "  * 当 $s=2$ → 输出大小：$\\lfloor (7 - 3)/2 \\rfloor + 1 = 3$，即 $3 \\times 3$。"
   ],
   "id": "dbc0fcbbd8a8a9c4"
  },
  {
   "metadata": {},
   "cell_type": "markdown",
   "source": [
    "下面的代码是默认一个卷积核的情况，图片用来启发代码思路\n",
    "<img src=\"./images/convolution-one-filter-example.png\">\n",
    "\n",
    "<img src=\"./images/RGB_Convolutions.png\">"
   ],
   "id": "769ff8c291f55c2a"
  },
  {
   "metadata": {
    "ExecuteTime": {
     "end_time": "2025-10-25T05:41:24.465364Z",
     "start_time": "2025-10-25T05:41:24.452429Z"
    }
   },
   "cell_type": "code",
   "source": [
    "def conv_forward(A_prev, W, b, hparameters):\n",
    "    \"\"\"\n",
    "    实现卷积函数的前向传播\n",
    "\n",
    "    参数：\n",
    "    A_prev -- 前一层的输出激活值，\n",
    "              形状为 (m, n_H_prev, n_W_prev, n_C_prev) 的 numpy 数组\n",
    "    W -- 卷积核的权重，\n",
    "         形状为 (f, f, n_C_prev, n_C) 的 numpy 数组\n",
    "    b -- 偏置，\n",
    "         形状为 (1, 1, 1, n_C) 的 numpy 数组\n",
    "    hparameters -- 包含超参数的 python 字典，键包括 \"stride\"和 \"pad\"， stride键对应的是步长，pad键对应的是填充\n",
    "\n",
    "    返回值：\n",
    "    Z -- 卷积后的输出，\n",
    "         形状为 (m, n_H, n_W, n_C) 的 numpy 数组\n",
    "    \"\"\"\n",
    "    stride = hparameters[\"stride\"]\n",
    "    pad = hparameters[\"pad\"]\n",
    "\n",
    "    m, n_H_prev, n_W_prev, n_C_prev = A_prev.shape         # m 为样本数量\n",
    "    f, n_C = W.shape[0], W.shape[-1]                        # n_C 为通道数量\n",
    "\n",
    "    # 计算 图像卷积后的输入高度与宽度\n",
    "    n_H = int((n_H_prev + 2 * pad - f) / stride) + 1\n",
    "    n_W = int((n_W_prev + 2 * pad - f) / stride) + 1\n",
    "\n",
    "    # 初始化 输出 Z\n",
    "    Z = np.zeros((m, n_H, n_W, n_C))\n",
    "\n",
    "    # 对上一层的输入用0填充 --》 之后我们对填充后的数组进行操作\n",
    "    A_prev_pad = zero_pad(A_prev, pad)\n",
    "\n",
    "    # 对输出的 Z 进行填充\n",
    "    for h_idx in range(n_H):\n",
    "        for w_idx in range(n_W):\n",
    "            # 指定切片区域位置\n",
    "            horizen_start = h_idx * stride\n",
    "            horizen_end = horizen_start + f\n",
    "            vertical_start = w_idx * stride\n",
    "            vertical_end = vertical_start + f\n",
    "\n",
    "            # 取单个切片 --> m x f x f x n_C_prev\n",
    "            a_slice_prev = A_prev_pad[:,  horizen_start:horizen_end, vertical_start:vertical_end, :]\n",
    "            # W[np.newaxis, ...] :                  1 x f x f x n_C_prev x n_C\n",
    "            # a_slice_prev[..., np.newaxis] :       m x f x f x n_C_prev x 1\n",
    "            # W * a_slice_prev:                     m x f x f x n_C_prev x n_C  --> np.sum(..., axis=(1, 2, 3)) -->  m x n_C\n",
    "            # b :                                   1 x 1 x 1 x n_C\n",
    "            # 对于每个切片，计算 W * x + b\n",
    "            Z[:, h_idx, w_idx, :] = np.sum(a_slice_prev[..., np.newaxis] * W[np.newaxis, ...],\n",
    "                                           axis=(1, 2, 3)) + b[0, 0, 0, :]\n",
    "\n",
    "    return Z\n"
   ],
   "id": "ab29a85edd6f5d25",
   "outputs": [],
   "execution_count": 6
  },
  {
   "metadata": {
    "ExecuteTime": {
     "end_time": "2025-10-25T05:41:24.508871Z",
     "start_time": "2025-10-25T05:41:24.493159Z"
    }
   },
   "cell_type": "code",
   "source": [
    "np.random.seed(1)\n",
    "A_prev = np.random.randn(2, 5, 7, 4)\n",
    "W = np.random.randn(3, 3, 4, 8)\n",
    "b = np.random.randn(1, 1, 1, 8)\n",
    "hparameters = {\"pad\" : 1,\n",
    "               \"stride\": 2}\n",
    "\n",
    "Z = conv_forward(A_prev, W, b, hparameters)\n",
    "z_mean = np.mean(Z)\n",
    "z_0_2_1 = Z[0, 2, 1]\n",
    "print(\"Z's mean =\\n\", z_mean)\n",
    "print(\"Z[0,2,1] =\\n\", z_0_2_1)\n",
    "\n",
    "cnn_utils.conv_forward_test_1(z_mean, z_0_2_1)\n",
    "cnn_utils.conv_forward_test_2(conv_forward)"
   ],
   "id": "7bcf644c55960212",
   "outputs": [
    {
     "name": "stdout",
     "output_type": "stream",
     "text": [
      "Z's mean =\n",
      " 0.5511276474566766\n",
      "Z[0,2,1] =\n",
      " [-2.17796037  8.07171329 -0.5772704   3.36286738  4.48113645 -2.89198428\n",
      " 10.99288867  3.03171932]\n",
      "\u001B[92mFirst Test: All tests passed!\n",
      "\u001B[92mSecond Test: All tests passed!\n"
     ]
    }
   ],
   "execution_count": 7
  },
  {
   "metadata": {},
   "cell_type": "markdown",
   "source": [
    "### 池化层（Pooling Layer）\n",
    "池化层是卷积神经网络中的关键组成部分，主要用于降低特征图的尺寸、减少参数量、控制过拟合，并提升模型的平移不变性等等\n",
    "\n",
    "池化层的主要作用有\n",
    "- **降维** ： 减少数据量，降低计算成本\n",
    "- **特征不变性**：使模型对小的平移、旋转、缩放不敏感\n",
    "- **防止过拟合**：减少参数，增强模型的泛化能力\n",
    "- **保留主要特征**：通过取区域内的最大值或平均值，保留主要特征信息\n",
    "\n",
    "常见的池化方式有三种：最大池化（Max Pooling）、平均池化（Average Pooling）和全局平均池化（Global Average Pooling）\n",
    "\n",
    "1️⃣最大池化：\n",
    "\n",
    "取区域内的最大值，其特点为保留纹理强烈的特征，公式表示如下：\n",
    "$$\n",
    "Y_{i, j} = \\max (X_{i:i+f , \\; j: j+f })\n",
    "$$\n",
    "其中，$f$ 为卷积核的大小，$i, j$ 分别代表图像切片的起始的高度和宽度下标\n",
    "\n",
    "2️⃣平均池化：\n",
    "\n",
    "取区域内的平均值，其作用为平滑特征图，公式表示如下：\n",
    "$$\n",
    "Y_{i, j} = \\frac{1}{f^2} \\sum X_{i:i+f , \\;  j: j+f }\n",
    "$$\n",
    "其中，$f$ 为卷积核的大小，$i, j$ 分别代表图像切片的起始的高度和宽度下标\n",
    "\n",
    "3️⃣全局平均池化\n",
    "\n",
    "对整个特征图取平均，常用于替代全连接层，减少参数量，公式如下：\n",
    "$$\n",
    "Y_c = \\frac{1}{H \\times W} \\sum_i^H \\sum_j^W X_{i, j, c}\n",
    "$$\n",
    "其中，$c$ 为通道数\n",
    "\n",
    "池化层的输入图像和输出图像的尺寸大小对应为：\n",
    "$$\n",
    "\\begin{aligned}\n",
    "H_{out} &= \\left\\lfloor \\frac{H_{in} - f + 2p}{s} \\right\\rfloor + 1 \\\\\n",
    "W_{out} &= \\left\\lfloor \\frac{W_{in} - f + 2p}{s} \\right\\rfloor + 1 \\\\\n",
    "C_{out} &= C\n",
    "\\end{aligned}\n",
    "$$\n",
    "其中，$f$ 为卷积核的大小，$p$ 为填充的长度，$s$ 为步幅\n"
   ],
   "id": "1f202e934c24bd9f"
  },
  {
   "metadata": {},
   "cell_type": "markdown",
   "source": [
    "以下两幅图用于启发思路\n",
    "\n",
    "<img src=\"./images/max-pooling-example.webp\" style=\"zoom: 70%;\">\n",
    "\n",
    "<img src=\"./images/convolution-block-detail.webp\">"
   ],
   "id": "e38fdda7a0e39368"
  },
  {
   "metadata": {
    "ExecuteTime": {
     "end_time": "2025-10-25T05:41:24.563225Z",
     "start_time": "2025-10-25T05:41:24.548313Z"
    }
   },
   "cell_type": "code",
   "source": [
    "def pool_forward(A_prev, hparameters, mode = \"max\"):\n",
    "    \"\"\"\n",
    "    实现池化层的前向传播\n",
    "\n",
    "    参数：\n",
    "    A_prev -- 输入数据，形状为 (m, n_H_prev, n_W_prev, n_C_prev) 的 numpy 数组\n",
    "    hparameters -- 包含超参数的 python 字典，键包括 \"f\"（池化窗口大小）和 \"stride\"（步幅）\n",
    "    mode -- 要使用的池化方式，字符串类型，可选 \"max\" 或 \"average\"\n",
    "\n",
    "    返回值：\n",
    "    A -- 池化层的输出，形状为 (m, n_H, n_W, n_C) 的 numpy 数组\n",
    "    \"\"\"\n",
    "\n",
    "    # TODO: 实现\n",
    "    f = hparameters[\"f\"]\n",
    "    stride = hparameters[\"stride\"]\n",
    "\n",
    "    m, n_H_prev, n_W_prev, n_C_prev = A_prev.shape\n",
    "\n",
    "    n_H = int((n_H_prev - f) / stride) + 1\n",
    "    n_W = int((n_W_prev - f) / stride) + 1\n",
    "    n_C = n_C_prev\n",
    "\n",
    "    # 初始化输出\n",
    "    A = np.zeros((m, n_H, n_W, n_C))\n",
    "\n",
    "    for h in range(n_H):\n",
    "        for w in range(n_W):\n",
    "            vertical_start = h * stride\n",
    "            vertical_end = vertical_start + f\n",
    "            horizen_start = w * stride\n",
    "            horizen_end = horizen_start + f\n",
    "\n",
    "            a_slice_prev = A_prev[:, vertical_start:vertical_end, horizen_start:horizen_end, :]\n",
    "\n",
    "            # a_slice_prev : m, f, f, n_C_prev --> m x n_C_prev\n",
    "            # A[:, h, w, :]:                       m x n_C  (n_C_prev)\n",
    "            if mode == \"max\":\n",
    "                A[:, h, w, :] = np.max(a_slice_prev, axis=(1, 2))\n",
    "            else:\n",
    "                A[:, h, w, :] = np.mean(a_slice_prev, axis=(1, 2))\n",
    "\n",
    "    return A\n"
   ],
   "id": "16f4f6e6ae8462f4",
   "outputs": [],
   "execution_count": 8
  },
  {
   "metadata": {
    "ExecuteTime": {
     "end_time": "2025-10-25T05:41:31.330263Z",
     "start_time": "2025-10-25T05:41:31.314518Z"
    }
   },
   "cell_type": "code",
   "source": [
    "# Case 1: 步幅为1\n",
    "print(\"CASE 1:\\n\")\n",
    "np.random.seed(1)\n",
    "A_prev_case_1 = np.random.randn(2, 5, 5, 3)\n",
    "hparameters_case_1 = {\"stride\" : 1, \"f\": 3}\n",
    "\n",
    "A, cache = pool_forward(A_prev_case_1, hparameters_case_1, mode = \"max\")\n",
    "print(\"mode = max\")\n",
    "print(\"A.shape = \" + str(A.shape))\n",
    "print(\"A[1, 1] =\\n\", A[1, 1])\n",
    "A, cache = pool_forward(A_prev_case_1, hparameters_case_1, mode = \"average\")\n",
    "print(\"mode = average\")\n",
    "print(\"A.shape = \" + str(A.shape))\n",
    "print(\"A[1, 1] =\\n\", A[1, 1])\n",
    "\n",
    "cnn_utils.pool_forward_test_1(pool_forward)\n",
    "\n",
    "# Case 2: 步幅为2\n",
    "print(\"\\n\\033[0mCASE 2:\\n\")\n",
    "np.random.seed(1)\n",
    "A_prev_case_2 = np.random.randn(2, 5, 5, 3)\n",
    "hparameters_case_2 = {\"stride\" : 2, \"f\": 3}\n",
    "\n",
    "A, cache = pool_forward(A_prev_case_2, hparameters_case_2, mode = \"max\")\n",
    "print(\"mode = max\")\n",
    "print(\"A.shape = \" + str(A.shape))\n",
    "print(\"A[0] =\\n\", A[0])\n",
    "print()\n",
    "\n",
    "A, cache = pool_forward(A_prev_case_2, hparameters_case_2, mode = \"average\")\n",
    "print(\"mode = average\")\n",
    "print(\"A.shape = \" + str(A.shape))\n",
    "print(\"A[1] =\\n\", A[1])\n",
    "\n",
    "cnn_utils.pool_forward_test_2(pool_forward)"
   ],
   "id": "21f18fde6d7c8ea0",
   "outputs": [
    {
     "name": "stdout",
     "output_type": "stream",
     "text": [
      "CASE 1:\n",
      "\n",
      "mode = max\n",
      "A.shape = (3, 3, 3)\n",
      "A[1, 1] =\n",
      " [1.14472371 0.90159072 1.65980218]\n",
      "mode = average\n",
      "A.shape = (3, 3, 3)\n",
      "A[1, 1] =\n",
      " [0.04737072 0.02592447 0.09203384]\n",
      "\u001B[92mAll tests passed!\n",
      "\n",
      "\u001B[0mCASE 2:\n",
      "\n",
      "mode = max\n",
      "A.shape = (2, 2, 3)\n",
      "A[0] =\n",
      " [[1.74481176 0.90159072 1.65980218]\n",
      " [1.74481176 1.6924546  1.65980218]]\n",
      "\n",
      "mode = average\n",
      "A.shape = (2, 2, 3)\n",
      "A[1] =\n",
      " [[-0.38268052  0.23257995  0.6259979 ]\n",
      " [-0.09525515  0.268511    0.46605637]]\n",
      "\u001B[92mAll tests passed!\n"
     ]
    }
   ],
   "execution_count": 9
  },
  {
   "metadata": {},
   "cell_type": "code",
   "outputs": [],
   "execution_count": null,
   "source": "",
   "id": "13dc9543f7966352"
  }
 ],
 "metadata": {
  "kernelspec": {
   "display_name": "Python 3",
   "language": "python",
   "name": "python3"
  },
  "language_info": {
   "codemirror_mode": {
    "name": "ipython",
    "version": 2
   },
   "file_extension": ".py",
   "mimetype": "text/x-python",
   "name": "python",
   "nbconvert_exporter": "python",
   "pygments_lexer": "ipython2",
   "version": "2.7.6"
  }
 },
 "nbformat": 4,
 "nbformat_minor": 5
}
